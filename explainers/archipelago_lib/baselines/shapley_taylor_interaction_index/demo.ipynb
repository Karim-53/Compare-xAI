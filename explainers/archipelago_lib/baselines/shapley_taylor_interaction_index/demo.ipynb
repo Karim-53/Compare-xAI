{
 "cells": [
  {
   "cell_type": "code",
   "execution_count": 1,
   "metadata": {},
   "outputs": [],
   "source": [
    "import numpy as np\n",
    "import sys\n",
    "\n",
    "sys.path.append(\"../../src\")\n",
    "from sti_explainer import StiExplainer\n",
    "sys.path.append(\"../../experiments/1. archdetect\")\n",
    "from synthetic_utils import *\n",
    "\n",
    "%load_ext autoreload\n",
    "%autoreload 2"
   ]
  },
  {
   "cell_type": "markdown",
   "metadata": {},
   "source": [
    "## Parameters"
   ]
  },
  {
   "cell_type": "code",
   "execution_count": 2,
   "metadata": {},
   "outputs": [],
   "source": [
    "function_id = 4\n",
    "\n",
    "p = 40 # num features\n",
    "input_value, base_value = 1, -1"
   ]
  },
  {
   "cell_type": "markdown",
   "metadata": {},
   "source": [
    "## Get Data and Synthetic Function"
   ]
  },
  {
   "cell_type": "code",
   "execution_count": 3,
   "metadata": {},
   "outputs": [
    {
     "name": "stdout",
     "output_type": "stream",
     "text": [
      "function id: 4\n"
     ]
    }
   ],
   "source": [
    "input = np.array([input_value]*p)\n",
    "baseline = np.array([base_value]*p)\n",
    "\n",
    "print(\"function id:\", function_id)\n",
    "model = synth_model(function_id, input_value, base_value)\n",
    "gts = model.get_gts(p)"
   ]
  },
  {
   "cell_type": "code",
   "execution_count": 4,
   "metadata": {},
   "outputs": [],
   "source": [
    "f_diff = (model(input)-model(baseline)).item()"
   ]
  },
  {
   "cell_type": "markdown",
   "metadata": {},
   "source": [
    "## Get Explanation"
   ]
  },
  {
   "cell_type": "code",
   "execution_count": 5,
   "metadata": {},
   "outputs": [],
   "source": [
    "sti_method = StiExplainer(model, input=input, baseline=baseline, output_indices=0, batch_size=20)"
   ]
  },
  {
   "cell_type": "markdown",
   "metadata": {},
   "source": [
    "### Individual Tests"
   ]
  },
  {
   "cell_type": "code",
   "execution_count": 6,
   "metadata": {},
   "outputs": [],
   "source": [
    "np.random.seed(42)\n",
    "\n",
    "def subset_before(i, j, ordering, ordering_dict):\n",
    "    end_idx = min(ordering_dict[i], ordering_dict[j])\n",
    "    return ordering[:end_idx]\n",
    "\n",
    "ordering = np.random.permutation(list(range(p)))\n",
    "ordering_dict = {ordering[i]: i for i in range(len(ordering))}\n",
    "\n",
    "att_sum = 0\n",
    "inters = {}\n",
    "for i in range(p):\n",
    "    for j in range(0, p):\n",
    "        if i >= j: continue\n",
    "        T = subset_before(i, j, ordering, ordering_dict)\n",
    "        S = (i,j)\n",
    "        \n",
    "        att = sti_method.attribution(S, T)\n",
    "        att_sum+=att\n",
    "        inters[S] = att\n",
    "        \n",
    "for i in range(p):\n",
    "    att = sti_method.attribution([i], [])\n",
    "    att_sum += att"
   ]
  },
  {
   "cell_type": "markdown",
   "metadata": {},
   "source": [
    "### Check Completeness"
   ]
  },
  {
   "cell_type": "code",
   "execution_count": 7,
   "metadata": {},
   "outputs": [
    {
     "name": "stdout",
     "output_type": "stream",
     "text": [
      "82.0 82.0\n"
     ]
    }
   ],
   "source": [
    "assert(att_sum == f_diff)\n",
    "print(att_sum, f_diff)"
   ]
  },
  {
   "cell_type": "markdown",
   "metadata": {},
   "source": [
    "### Batch Version"
   ]
  },
  {
   "cell_type": "code",
   "execution_count": 8,
   "metadata": {},
   "outputs": [
    {
     "name": "stdout",
     "output_type": "stream",
     "text": [
      "CPU times: user 13 s, sys: 93.9 ms, total: 13.1 s\n",
      "Wall time: 22.8 s\n"
     ]
    }
   ],
   "source": [
    "%%time\n",
    "num_orderings = 50\n",
    "mat = sti_method.batch_attribution(num_orderings, pairwise=True, seed=4)\n",
    "arr = sti_method.batch_attribution(num_orderings, main_effects=True, pairwise=False, seed=4)\n",
    "\n",
    "att_sum = mat.sum() + arr.sum()"
   ]
  },
  {
   "cell_type": "markdown",
   "metadata": {},
   "source": [
    "### Check Completeness"
   ]
  },
  {
   "cell_type": "code",
   "execution_count": 9,
   "metadata": {},
   "outputs": [
    {
     "name": "stdout",
     "output_type": "stream",
     "text": [
      "81.97242471249145 82.0\n"
     ]
    }
   ],
   "source": [
    "assert(round(att_sum) == f_diff)\n",
    "print(att_sum, f_diff)"
   ]
  }
 ],
 "metadata": {
  "kernelspec": {
   "display_name": "Python [conda env:test]",
   "language": "python",
   "name": "conda-env-test-py"
  },
  "language_info": {
   "codemirror_mode": {
    "name": "ipython",
    "version": 3
   },
   "file_extension": ".py",
   "mimetype": "text/x-python",
   "name": "python",
   "nbconvert_exporter": "python",
   "pygments_lexer": "ipython3",
   "version": "3.6.7"
  }
 },
 "nbformat": 4,
 "nbformat_minor": 4
}
