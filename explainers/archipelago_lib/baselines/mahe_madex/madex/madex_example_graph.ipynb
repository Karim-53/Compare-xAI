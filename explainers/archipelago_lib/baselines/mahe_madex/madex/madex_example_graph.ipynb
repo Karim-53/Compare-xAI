{
 "cells": [
  {
   "cell_type": "code",
   "execution_count": 1,
   "metadata": {},
   "outputs": [],
   "source": [
    "from torchtext import datasets, data\n",
    "import matplotlib.pyplot as plt\n",
    "import numpy as np\n",
    "import os, sys\n",
    "from time import time\n",
    "\n",
    "from neural_interaction_detection import *\n",
    "from sampling_and_inference import *\n",
    "from utils.general_utils import *\n",
    "from utils.graph_utils import *\n",
    "\n",
    "%matplotlib inline\n",
    "\n",
    "import warnings\n",
    "warnings.filterwarnings(\"ignore\")\n",
    "\n",
    "%load_ext autoreload\n",
    "%autoreload 2\n",
    "\n",
    "device = torch.device(\"cuda:0\")"
   ]
  },
  {
   "cell_type": "markdown",
   "metadata": {},
   "source": [
    "## Load Model"
   ]
  },
  {
   "cell_type": "code",
   "execution_count": 2,
   "metadata": {},
   "outputs": [],
   "source": [
    "model_folder = \"utils/pretrained\"\n",
    "\n",
    "model, n_nodes, n_hops, test_idxs = get_graph_model(model_folder)\n",
    "model = model.to(device)"
   ]
  },
  {
   "cell_type": "markdown",
   "metadata": {},
   "source": [
    "## Classify Graph"
   ]
  },
  {
   "cell_type": "code",
   "execution_count": 3,
   "metadata": {},
   "outputs": [],
   "source": [
    "data_folder = \"utils/data/cora\"\n",
    "\n",
    "node_feats, adj_mat, labels = load_cora(data_folder, device)"
   ]
  },
  {
   "cell_type": "code",
   "execution_count": 4,
   "metadata": {},
   "outputs": [
    {
     "name": "stdout",
     "output_type": "stream",
     "text": [
      "target node classification: 6\n"
     ]
    }
   ],
   "source": [
    "target_idx = test_idxs[0]\n",
    "\n",
    "preds = model(node_feats, convert_adj_to_da(adj_mat))\n",
    "classification = torch.argmax(preds, 1).cpu().numpy()[target_idx] \n",
    "print(\"target node classification:\", classification)"
   ]
  },
  {
   "cell_type": "markdown",
   "metadata": {},
   "source": [
    "## Run MADEX"
   ]
  },
  {
   "cell_type": "code",
   "execution_count": 5,
   "metadata": {},
   "outputs": [
    {
     "name": "stderr",
     "output_type": "stream",
     "text": [
      "100%|██████████| 6000/6000 [01:40<00:00, 59.72it/s]\n"
     ]
    }
   ],
   "source": [
    "data_inst = {\"nodes\": node_feats, \"edges\": adj_mat, \"test_idxs\": test_idxs}\n",
    "Xs, Ys = generate_perturbation_dataset_graph(data_inst, model, target_idx, n_hops+1, device, seed=42, std_scale=False)"
   ]
  },
  {
   "cell_type": "code",
   "execution_count": 6,
   "metadata": {},
   "outputs": [
    {
     "name": "stdout",
     "output_type": "stream",
     "text": [
      "19.4754 test loss, 94.2 seconds elapsed\n"
     ]
    }
   ],
   "source": [
    "t0 = time()\n",
    "interactions, mlp_loss = detect_interactions(Xs, Ys, weight_samples=True, seed=42, verbose=False)\n",
    "print(\"{} test loss, {} seconds elapsed\".format(round(mlp_loss, 4), round(time() - t0, 1)))"
   ]
  },
  {
   "cell_type": "markdown",
   "metadata": {},
   "source": [
    "## Show Main Effects and Interaction Interpretations"
   ]
  },
  {
   "cell_type": "code",
   "execution_count": 7,
   "metadata": {},
   "outputs": [
    {
     "name": "stdout",
     "output_type": "stream",
     "text": [
      "legend: (hops from target node, node idx). All hops should be within n_hops: 3\n",
      "\n",
      "target (0, 1808)\n",
      "\n",
      "main effects\n",
      "(2, 722)\n",
      "(2, 2465)\n",
      "(2, 264)\n",
      "(2, 1189)\n",
      "(2, 2146)\n",
      "\n",
      "interactions\n",
      "2\n",
      "inter 0: ((1, 638), (2, 722))\n",
      "4\n",
      "inter 1: ((2, 264), (1, 638), (2, 722), (2, 2465))\n",
      "5\n",
      "inter 2: ((2, 264), (1, 638), (2, 722), (2, 1189), (2, 2465))\n",
      "6\n",
      "inter 3: ((2, 264), (1, 638), (2, 722), (2, 1189), (2, 2146), (2, 2465))\n",
      "9\n",
      "inter 4: ((2, 264), (2, 294), (2, 296), (1, 638), (2, 722), (2, 1189), (2, 1327), (2, 2146), (2, 2465))\n"
     ]
    }
   ],
   "source": [
    "node_to_hop = get_hops_to_target(target_idx, adj_mat, n_hops)\n",
    "local_map = data_inst[\"local_idx_map\"]\n",
    "\n",
    "print(\"legend: (hops from target node, node idx). All hops should be within n_hops:\", n_hops)\n",
    "\n",
    "print(\"\\ntarget\", (0, target_idx))\n",
    "print(\"\\nmain effects\")\n",
    "for uni, att in get_lime_attributions(Xs, Ys)[:5]:\n",
    "    if att > 0:\n",
    "        print((node_to_hop[local_map[uni]],local_map[uni]))\n",
    "print(\"\\ninteractions\")\n",
    "for i, inter in enumerate(interactions[:5]):\n",
    "    print(len(inter[0]))\n",
    "    print(\"inter {}:\".format(i), tuple((node_to_hop[local_map[n]],local_map[n]) for n in inter[0]))\n"
   ]
  }
 ],
 "metadata": {
  "kernelspec": {
   "display_name": "Python [conda env:torch]",
   "language": "python",
   "name": "conda-env-torch-py"
  },
  "language_info": {
   "codemirror_mode": {
    "name": "ipython",
    "version": 3
   },
   "file_extension": ".py",
   "mimetype": "text/x-python",
   "name": "python",
   "nbconvert_exporter": "python",
   "pygments_lexer": "ipython3",
   "version": "3.6.2"
  }
 },
 "nbformat": 4,
 "nbformat_minor": 4
}
