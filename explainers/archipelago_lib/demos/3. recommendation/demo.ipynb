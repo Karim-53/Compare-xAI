{
 "cells": [
  {
   "cell_type": "code",
   "execution_count": 1,
   "metadata": {},
   "outputs": [],
   "source": [
    "import os, sys\n",
    "import numpy as np\n",
    "import tensorflow.compat.v1 as tf\n",
    "tf.compat.v1.disable_eager_execution()\n",
    "tf.compat.v1.logging.set_verbosity(tf.compat.v1.logging.ERROR)\n",
    "\n",
    "sys.path.append(\"../../src\")\n",
    "from explainer import Archipelago\n",
    "from application_utils.rec_utils import get_autoint_and_data, AutoIntWrapper, IdXformer\n",
    "from application_utils.rec_utils import get_example, evaluate, get_avazu_dict\n",
    "from viz.rec import viz_bar_chart\n",
    "\n",
    "import matplotlib\n",
    "matplotlib.rcParams['mathtext.fontset'] = 'cm'\n",
    "matplotlib.rcParams['font.family'] = 'STIXGeneral'\n",
    "\n",
    "import warnings\n",
    "warnings.filterwarnings(\"ignore\")\n",
    "\n",
    "%load_ext autoreload\n",
    "%autoreload 2\n",
    "%matplotlib inline"
   ]
  },
  {
   "cell_type": "markdown",
   "metadata": {},
   "source": [
    "## Get Model and Data"
   ]
  },
  {
   "cell_type": "code",
   "execution_count": 2,
   "metadata": {},
   "outputs": [
    {
     "name": "stdout",
     "output_type": "stream",
     "text": [
      "total parameters :25059714\n",
      "extra parameters : 347890\n",
      "restored from ../../downloads/pretrained_autoint/\n"
     ]
    }
   ],
   "source": [
    "model, data = get_autoint_and_data(dataset=\"Avazu\",\n",
    "    data_path=\"../../downloads/avazu_data/avazu_val_minibatch.pickle\",\n",
    "    save_path=\"../../downloads/pretrained_autoint/\",\n",
    "    feature_size = 1544489)"
   ]
  },
  {
   "cell_type": "markdown",
   "metadata": {},
   "source": [
    "## Get Example and Classification"
   ]
  },
  {
   "cell_type": "code",
   "execution_count": 3,
   "metadata": {},
   "outputs": [
    {
     "name": "stdout",
     "output_type": "stream",
     "text": [
      "click\n",
      "108\n"
     ]
    }
   ],
   "source": [
    "for index in range(len(data[\"Xi\"])):\n",
    "    Xv_inst, Xi_inst = get_example(data, index=index)\n",
    "    model_wrapper = AutoIntWrapper(model, Xi_inst, inv_sigmoid=True)\n",
    "\n",
    "    pred = model_wrapper(Xv_inst)\n",
    "\n",
    "    outcome = \"click\" if pred>0 else \"not click\"\n",
    "    if outcome == \"click\":\n",
    "        print(outcome)\n",
    "        print(index)\n",
    "        break"
   ]
  },
  {
   "cell_type": "code",
   "execution_count": 4,
   "metadata": {},
   "outputs": [
    {
     "data": {
      "text/plain": [
       "(0.2508336305618286, -0.9878369569778442)"
      ]
     },
     "execution_count": 4,
     "metadata": {},
     "output_type": "execute_result"
    }
   ],
   "source": [
    "model_wrapper(Xv_inst).item(),model_wrapper(np.zeros_like(Xv_inst)).item()"
   ]
  },
  {
   "cell_type": "markdown",
   "metadata": {},
   "source": [
    "## Explain Prediction"
   ]
  },
  {
   "cell_type": "code",
   "execution_count": 5,
   "metadata": {},
   "outputs": [],
   "source": [
    "xf = IdXformer(Xv_inst, np.zeros_like(Xv_inst))\n",
    "apgo = Archipelago(model_wrapper, data_xformer=xf, output_indices=0, batch_size=20)"
   ]
  },
  {
   "cell_type": "code",
   "execution_count": 6,
   "metadata": {},
   "outputs": [],
   "source": [
    "explanation = apgo.explain(top_k=3)"
   ]
  },
  {
   "cell_type": "markdown",
   "metadata": {},
   "source": [
    "### Show Result"
   ]
  },
  {
   "cell_type": "code",
   "execution_count": 7,
   "metadata": {},
   "outputs": [],
   "source": [
    "sorted_sets = sorted(explanation.items(), key=lambda item: -item[1])\n",
    "\n",
    "avazu_dict = get_avazu_dict()\n",
    "sorted_labels = []\n",
    "for s, v in sorted_sets:\n",
    "    labels = [avazu_dict[i] for i in s]\n",
    "    if len(labels) == 1:\n",
    "        if labels[0].startswith(\"C\"): #anonymous feature\n",
    "            continue\n",
    "            \n",
    "    labels = r\", \".join(labels)\n",
    "    sorted_labels.append( (labels, v) )"
   ]
  },
  {
   "cell_type": "code",
   "execution_count": 8,
   "metadata": {},
   "outputs": [
    {
     "data": {
      "image/png": "[encoded data removed]",
      "text/plain": [
       "<Figure size 144x270 with 1 Axes>"
      ]
     },
     "metadata": {
      "needs_background": "light"
     },
     "output_type": "display_data"
    }
   ],
   "source": [
    "viz_bar_chart(sorted_labels, top_k=5, figsize=(2.,3.75), save_file=None, max_label_size=18, remove_space=False)"
   ]
  }
 ],
 "metadata": {
  "kernelspec": {
   "display_name": "Python 3",
   "language": "python",
   "name": "python3"
  },
  "language_info": {
   "codemirror_mode": {
    "name": "ipython",
    "version": 3
   },
   "file_extension": ".py",
   "mimetype": "text/x-python",
   "name": "python",
   "nbconvert_exporter": "python",
   "pygments_lexer": "ipython3",
   "version": "3.6.12"
  }
 },
 "nbformat": 4,
 "nbformat_minor": 4
}
