{
 "cells": [
  {
   "cell_type": "code",
   "execution_count": 1,
   "metadata": {},
   "outputs": [],
   "source": [
    "from transformers import BertTokenizer\n",
    "import pickle\n",
    "from tqdm import tqdm\n",
    "import sys\n",
    "import unidecode\n",
    "\n",
    "sys.path.append(\"../../../src\")\n",
    "from application_utils.text_utils import get_token_list"
   ]
  },
  {
   "cell_type": "code",
   "execution_count": 2,
   "metadata": {},
   "outputs": [],
   "source": [
    "tokenizer = BertTokenizer.from_pretrained('bert-base-uncased')"
   ]
  },
  {
   "cell_type": "code",
   "execution_count": 3,
   "metadata": {},
   "outputs": [],
   "source": [
    "with open('../../../downloads/sst_data/sst_trees.pickle', 'rb') as handle:\n",
    "    sst_trees = pickle.load(handle)"
   ]
  },
  {
   "cell_type": "code",
   "execution_count": 4,
   "metadata": {},
   "outputs": [],
   "source": [
    "def map_word_to_token_index(words, tokens):\n",
    "    t=0\n",
    "    token = tokens[t].replace(\"#\", \"\")\n",
    "\n",
    "    token_to_word_map = {}\n",
    "    word_to_token_map = {}\n",
    "    for w, word in enumerate(words):\n",
    "        tmp_word = str(word)\n",
    "\n",
    "        i = 0\n",
    "        while(tmp_word):\n",
    "            tmp_word = \"\".join(list(word)[i:])\n",
    "\n",
    "            if tmp_word.startswith(token):   \n",
    "                token_to_word_map[t] = w \n",
    "                if w not in word_to_token_map:\n",
    "                    word_to_token_map[w] = []\n",
    "                word_to_token_map[w].append(t)\n",
    "                \n",
    "                i += len(token)\n",
    "                t += 1\n",
    "                if t >= len(tokens):\n",
    "                    break\n",
    "\n",
    "                token = tokens[t].replace(\"##\", \"\")\n",
    "            else:\n",
    "                i += 1\n",
    "\n",
    "    assert(t == len(tokens))\n",
    "    assert(w == len(words)-1)\n",
    "    return token_to_word_map, word_to_token_map"
   ]
  },
  {
   "cell_type": "code",
   "execution_count": 5,
   "metadata": {},
   "outputs": [
    {
     "name": "stderr",
     "output_type": "stream",
     "text": [
      "100%|██████████| 2210/2210 [00:02<00:00, 775.08it/s]\n"
     ]
    }
   ],
   "source": [
    "\n",
    "index = 0\n",
    "batch_size = 20\n",
    "\n",
    "splits = {}\n",
    "count = 0\n",
    "for split in [\"test\"]:\n",
    "    token_trees = []\n",
    "\n",
    "    for index in tqdm(range(len(sst_trees[split]))):\n",
    "\n",
    "        sentence = sst_trees[split][index][0]\n",
    "        subtrees = sst_trees[split][index][2]\n",
    "        sen_len = len(sentence.split())\n",
    "\n",
    "        tokens = get_token_list(sentence, tokenizer)[1:-1]\n",
    "\n",
    "        words = unidecode.unidecode(sentence.lower()).split()\n",
    "        try:\n",
    "            token_to_word_map, word_to_token_map = map_word_to_token_index(words, list(tokens))\n",
    "        except:\n",
    "            print(tokens)\n",
    "            print(words)\n",
    "            assert(False)\n",
    "\n",
    "        filtered_subtrees = []\n",
    "\n",
    "        for subtree in subtrees:\n",
    "            if subtree[\"phrase\"] == sentence: continue #excludes a phrase and phrase label if that phrase is the original sentence\n",
    "            phrase_list = subtree[\"phrase\"].split()\n",
    "            #if len(phrase_list) == 1: continue #excludes phrases that only consist of a single word before tokenization\n",
    "        \n",
    "            pos = subtree[\"position\"]\n",
    "                            \n",
    "            phrase_span_tokenspace = ( min(word_to_token_map[pos]), max(word_to_token_map[pos + len(phrase_list)-1]))\n",
    "            first_token_index, last_token_index = phrase_span_tokenspace\n",
    "    \n",
    "            #if last_token_index - first_token_index == 0: continue #excludes phrases that only consist of a single token\n",
    "            \n",
    "            count +=1\n",
    "    \n",
    "            filtered_subtrees.append({\"span\": phrase_span_tokenspace, \"label\": subtree[\"label\"], \"phrase\": subtree[\"phrase\"], \"position\": pos })\n",
    "\n",
    "        token_trees.append({\"sentence\": sentence, \"tokens\": tokens, \"subtrees\": filtered_subtrees })\n",
    "    splits[split] = token_trees\n",
    "    \n",
    "splits[\"note\"] = \"the phrase spans need to be shifted right based on which methods index SEP and CLS. the spans mean (first token index, last token index)\""
   ]
  },
  {
   "cell_type": "code",
   "execution_count": 6,
   "metadata": {},
   "outputs": [],
   "source": [
    "with open('text_data/subtree_token_pairphrase_and_greater.pickle', 'wb') as handle:\n",
    "    pickle.dump(splits, handle, protocol=pickle.HIGHEST_PROTOCOL)"
   ]
  }
 ],
 "metadata": {
  "kernelspec": {
   "display_name": "Python [conda env:test]",
   "language": "python",
   "name": "conda-env-test-py"
  },
  "language_info": {
   "codemirror_mode": {
    "name": "ipython",
    "version": 3
   },
   "file_extension": ".py",
   "mimetype": "text/x-python",
   "name": "python",
   "nbconvert_exporter": "python",
   "pygments_lexer": "ipython3",
   "version": "3.6.7"
  }
 },
 "nbformat": 4,
 "nbformat_minor": 2
}
