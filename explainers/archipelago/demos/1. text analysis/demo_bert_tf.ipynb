{
 "cells": [
  {
   "cell_type": "code",
   "execution_count": 1,
   "metadata": {},
   "outputs": [],
   "source": [
    "import tensorflow as tf\n",
    "from transformers import *\n",
    "import numpy as np\n",
    "import sys\n",
    "\n",
    "sys.path.append(\"../../src\")\n",
    "from explainer import Archipelago\n",
    "from application_utils.text_utils import *\n",
    "from application_utils.text_utils_tf import BertWrapper\n",
    "from viz.text import viz_text\n",
    "\n",
    "%load_ext autoreload\n",
    "%autoreload 2\n",
    "%matplotlib inline"
   ]
  },
  {
   "cell_type": "markdown",
   "metadata": {},
   "source": [
    "## Get Model"
   ]
  },
  {
   "cell_type": "code",
   "execution_count": 2,
   "metadata": {},
   "outputs": [],
   "source": [
    "tokenizer = BertTokenizer.from_pretrained('bert-base-uncased')\n",
    "\n",
    "model_path = \"../../downloads/pretrained_bert\"\n",
    "model = TFBertForSequenceClassification.from_pretrained(model_path, from_pt=True)\n",
    "model_wrapper = BertWrapper(model)"
   ]
  },
  {
   "cell_type": "markdown",
   "metadata": {},
   "source": [
    "## Define Text"
   ]
  },
  {
   "cell_type": "code",
   "execution_count": 3,
   "metadata": {},
   "outputs": [],
   "source": [
    "text = \"I regret to report that these ops are just not extreme enough.\"\n",
    "baseline_token = \"_\""
   ]
  },
  {
   "cell_type": "markdown",
   "metadata": {},
   "source": [
    "## Get Sentiment"
   ]
  },
  {
   "cell_type": "code",
   "execution_count": 4,
   "metadata": {},
   "outputs": [
    {
     "name": "stdout",
     "output_type": "stream",
     "text": [
      "negative -2.5492961\n"
     ]
    }
   ],
   "source": [
    "text_ids, baseline_ids = get_input_baseline_ids(text, baseline_token, tokenizer)\n",
    "\n",
    "class_idx = 1\n",
    "logit = model_wrapper([text_ids])[0,class_idx]\n",
    "polarity = \"positive\" if logit > 0 else \"negative\"\n",
    "print(polarity, logit)"
   ]
  },
  {
   "cell_type": "markdown",
   "metadata": {},
   "source": [
    "## Explain Prediction"
   ]
  },
  {
   "cell_type": "code",
   "execution_count": 5,
   "metadata": {},
   "outputs": [],
   "source": [
    "xf = TextXformer(text_ids, baseline_ids) \n",
    "apgo = Archipelago(model_wrapper, data_xformer=xf, output_indices=class_idx, batch_size=20)"
   ]
  },
  {
   "cell_type": "code",
   "execution_count": 6,
   "metadata": {},
   "outputs": [],
   "source": [
    "explanation = apgo.explain(top_k=3)"
   ]
  },
  {
   "cell_type": "markdown",
   "metadata": {},
   "source": [
    "### Show Explanation"
   ]
  },
  {
   "cell_type": "code",
   "execution_count": 7,
   "metadata": {},
   "outputs": [
    {
     "data": {
      "image/png": "[encoded data removed]",
      "text/plain": [
       "<Figure size 921.6x123.429 with 1 Axes>"
      ]
     },
     "metadata": {
      "needs_background": "light"
     },
     "output_type": "display_data"
    }
   ],
   "source": [
    "tokens = get_token_list(text_ids, tokenizer)    \n",
    "explanation, tokens = process_stop_words(explanation, tokens)\n",
    "fig = viz_text(explanation, tokens)"
   ]
  }
 ],
 "metadata": {
  "kernelspec": {
   "display_name": "Python [default]",
   "language": "python",
   "name": "python3"
  },
  "language_info": {
   "codemirror_mode": {
    "name": "ipython",
    "version": 3
   },
   "file_extension": ".py",
   "mimetype": "text/x-python",
   "name": "python",
   "nbconvert_exporter": "python",
   "pygments_lexer": "ipython3",
   "version": "3.6.2"
  }
 },
 "nbformat": 4,
 "nbformat_minor": 4
}
