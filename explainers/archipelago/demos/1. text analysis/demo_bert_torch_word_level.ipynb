{
 "cells": [
  {
   "cell_type": "markdown",
   "metadata": {},
   "source": [
    "## This notebook supports word-level interaction explanations rather than token-level explanations"
   ]
  },
  {
   "cell_type": "code",
   "execution_count": null,
   "metadata": {},
   "outputs": [],
   "source": [
    "import torch\n",
    "from transformers import *\n",
    "import numpy as np\n",
    "import sys\n",
    "\n",
    "sys.path.append(\"../../src\")\n",
    "from explainer import Archipelago\n",
    "from application_utils.text_utils import *\n",
    "from application_utils.text_utils_torch import BertWrapperTorch\n",
    "from viz.text import viz_text\n",
    "\n",
    "%load_ext autoreload\n",
    "%autoreload 2\n",
    "%matplotlib inline"
   ]
  },
  {
   "cell_type": "markdown",
   "metadata": {},
   "source": [
    "## Get Model"
   ]
  },
  {
   "cell_type": "code",
   "execution_count": null,
   "metadata": {},
   "outputs": [],
   "source": [
    "device = torch.device(\"cuda:0\")\n",
    "tokenizer = BertTokenizer.from_pretrained('bert-base-uncased')\n",
    "\n",
    "model_path = \"../../downloads/pretrained_bert\"\n",
    "model = BertForSequenceClassification.from_pretrained(model_path)\n",
    "model_wrapper = BertWrapperTorch(model, device)"
   ]
  },
  {
   "cell_type": "markdown",
   "metadata": {},
   "source": [
    "## Define Text"
   ]
  },
  {
   "cell_type": "code",
   "execution_count": 3,
   "metadata": {},
   "outputs": [],
   "source": [
    "text = \"It's solid and affecting and exactly as thought-provoking as it should be\"\n",
    "\n",
    "baseline_token = \"_\""
   ]
  },
  {
   "cell_type": "markdown",
   "metadata": {},
   "source": [
    "## Get Sentiment"
   ]
  },
  {
   "cell_type": "code",
   "execution_count": 4,
   "metadata": {},
   "outputs": [
    {
     "name": "stdout",
     "output_type": "stream",
     "text": [
      "positive 4.273921012878418\n"
     ]
    }
   ],
   "source": [
    "text_ids, baseline_ids = get_input_baseline_ids(text, baseline_token, tokenizer)\n",
    "\n",
    "class_idx = 1\n",
    "logit = model_wrapper([text_ids])[0,class_idx].item()\n",
    "polarity = \"positive\" if logit > 0 else \"negative\"\n",
    "print(polarity, logit)"
   ]
  },
  {
   "cell_type": "markdown",
   "metadata": {},
   "source": [
    "## Explain Prediction"
   ]
  },
  {
   "cell_type": "code",
   "execution_count": 5,
   "metadata": {},
   "outputs": [],
   "source": [
    "class WordXformer(TextXformer):\n",
    "    # A minor change to TextXformer to perturb groups of token ids rather than individual token ids\n",
    "    def __init__(self, input_grouped_ids, baseline_grouped_ids):\n",
    "        TextXformer.__init__(self, input_grouped_ids, baseline_grouped_ids)\n",
    "\n",
    "    def __call__(self, inst):\n",
    "        perturbed_words_as_token_id_groups = self.efficient_xform(inst)\n",
    "        flattened_token_ids = []\n",
    "        for id_group in perturbed_words_as_token_id_groups:\n",
    "            flattened_token_ids.extend(id_group)\n",
    "        return flattened_token_ids\n",
    "    \n",
    "def get_token_id_groups_from_words_in_input(text, baseline_token, tokenizer):\n",
    "    # get default start and end ids of a sentence\n",
    "    text_ids, baseline_ids = get_input_baseline_ids(text, baseline_token, tokenizer)\n",
    "    start_id, end_id = text_ids[0], text_ids[-1]\n",
    "\n",
    "    # get each word in the input text as a list of corresponding token ids\n",
    "    orig_token_id_groups = [tokenizer.encode(word, add_special_tokens=False) for word in text.split()]\n",
    "    assert [j for i in orig_token_id_groups for j in i] == text_ids[1:-1].tolist()\n",
    "    \n",
    "    # add the start and end ids to the original token_id_groups\n",
    "    token_id_groups = [[start_id]] + list(orig_token_id_groups) + [[end_id]]\n",
    "    \n",
    "    # create corresponding token ids groups for the baseline as well\n",
    "    baseline_id_groups = [[start_id]] + [[baseline_ids[1]]*len(grp) for grp in token_id_groups[1:-1]] + [[end_id]]\n",
    "    return token_id_groups, baseline_id_groups"
   ]
  },
  {
   "cell_type": "code",
   "execution_count": 6,
   "metadata": {},
   "outputs": [],
   "source": [
    "token_id_groups, baseline_id_groups = get_token_id_groups_from_words_in_input(text, baseline_token, tokenizer)\n",
    "\n",
    "xf = WordXformer(token_id_groups, baseline_id_groups) \n",
    "apgo = Archipelago(model_wrapper, data_xformer=xf, output_indices=class_idx, batch_size=20)"
   ]
  },
  {
   "cell_type": "code",
   "execution_count": 7,
   "metadata": {},
   "outputs": [],
   "source": [
    "explanation = apgo.explain(top_k=3)"
   ]
  },
  {
   "cell_type": "markdown",
   "metadata": {},
   "source": [
    "### Show Explanation"
   ]
  },
  {
   "cell_type": "code",
   "execution_count": 8,
   "metadata": {},
   "outputs": [
    {
     "data": {
      "image/png": "[encoded data removed]",
      "text/plain": [
       "<Figure size 921.6x123.429 with 1 Axes>"
      ]
     },
     "metadata": {},
     "output_type": "display_data"
    }
   ],
   "source": [
    "tokens = ['CLS'] + text.split() + ['SEP']\n",
    "explanation, tokens = process_stop_words(explanation, tokens)\n",
    "fig = viz_text(explanation, tokens)"
   ]
  }
 ],
 "metadata": {
  "kernelspec": {
   "display_name": "Python [default]",
   "language": "python",
   "name": "python3"
  },
  "language_info": {
   "codemirror_mode": {
    "name": "ipython",
    "version": 3
   },
   "file_extension": ".py",
   "mimetype": "text/x-python",
   "name": "python",
   "nbconvert_exporter": "python",
   "pygments_lexer": "ipython3",
   "version": "3.6.2"
  }
 },
 "nbformat": 4,
 "nbformat_minor": 4
}
