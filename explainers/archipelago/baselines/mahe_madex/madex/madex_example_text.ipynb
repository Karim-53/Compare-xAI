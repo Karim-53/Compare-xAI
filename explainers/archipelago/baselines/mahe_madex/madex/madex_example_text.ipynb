{
 "cells": [
  {
   "cell_type": "code",
   "execution_count": 1,
   "metadata": {},
   "outputs": [],
   "source": [
    "from torchtext import datasets, data\n",
    "import numpy as np\n",
    "import os, sys\n",
    "from time import time\n",
    "\n",
    "from neural_interaction_detection import *\n",
    "from sampling_and_inference import *\n",
    "from utils.general_utils import *\n",
    "from utils.text_utils import *\n",
    "\n",
    "import warnings\n",
    "warnings.filterwarnings(\"ignore\")\n",
    "%load_ext autoreload\n",
    "%autoreload 2\n",
    "\n",
    "device = torch.device(\"cuda:0\")"
   ]
  },
  {
   "cell_type": "markdown",
   "metadata": {},
   "source": [
    "## Load Model"
   ]
  },
  {
   "cell_type": "code",
   "execution_count": 2,
   "metadata": {},
   "outputs": [
    {
     "name": "stderr",
     "output_type": "stream",
     "text": [
      "Widget Javascript not detected.  It may not be installed or enabled properly.\n"
     ]
    },
    {
     "data": {
      "application/vnd.jupyter.widget-view+json": {
       "model_id": "f1b3bc5eb16f46edb5fcd643307db412"
      }
     },
     "metadata": {},
     "output_type": "display_data"
    },
    {
     "name": "stdout",
     "output_type": "stream",
     "text": [
      "\n"
     ]
    }
   ],
   "source": [
    "model = get_bert_model(device)"
   ]
  },
  {
   "cell_type": "markdown",
   "metadata": {},
   "source": [
    "## Classify Sentence"
   ]
  },
  {
   "cell_type": "code",
   "execution_count": 3,
   "metadata": {},
   "outputs": [
    {
     "name": "stdout",
     "output_type": "stream",
     "text": [
      "positive sentiment\n"
     ]
    }
   ],
   "source": [
    "sentence = \"this was not a great movie, but a good movie nevertheless\"\n",
    "\n",
    "out = model(sentence)\n",
    "pred = np.argmax(out[0])\n",
    "print((\"positive\" if pred== 1 else \"negative\") + \" sentiment\")"
   ]
  },
  {
   "cell_type": "markdown",
   "metadata": {},
   "source": [
    "## Run MADEX"
   ]
  },
  {
   "cell_type": "code",
   "execution_count": 4,
   "metadata": {},
   "outputs": [
    {
     "name": "stderr",
     "output_type": "stream",
     "text": [
      "100%|██████████| 12/12 [00:10<00:00,  1.15it/s]\n"
     ]
    }
   ],
   "source": [
    "data_inst = {\"orig\": sentence}\n",
    "Xs, Ys = generate_perturbation_dataset_text(data_inst, model, 1, device, model_id=\"bert\", batch_size=500, seed=42, std_scale=True)"
   ]
  },
  {
   "cell_type": "code",
   "execution_count": 5,
   "metadata": {},
   "outputs": [
    {
     "name": "stdout",
     "output_type": "stream",
     "text": [
      "0.0142 test loss, 29.9 seconds elapsed\n"
     ]
    }
   ],
   "source": [
    "t0 = time()\n",
    "interactions, mlp_loss = detect_interactions(Xs, Ys, detector=\"GradientNID\", add_linear=True, device=device, weight_samples=True, seed=42, verbose=False)\n",
    "print(\"{} test loss, {} seconds elapsed\".format(round(mlp_loss, 4), round(time() - t0, 1)))"
   ]
  },
  {
   "cell_type": "markdown",
   "metadata": {},
   "source": [
    "## Show Main Effects and Interaction Interpretations"
   ]
  },
  {
   "cell_type": "code",
   "execution_count": 6,
   "metadata": {},
   "outputs": [
    {
     "name": "stdout",
     "output_type": "stream",
     "text": [
      "this was not a great movie, but a good movie nevertheless\n",
      "\n",
      "main effects: ('but', 'a', 'good', 'movie', 'nevertheless')\n",
      "\n",
      "top-5 interactions\n",
      "inter 1: ('not', 'but') 2.7557428\n",
      "inter 2: ('but', 'good') 1.9747727\n",
      "inter 3: ('not', 'good') 1.8207084\n",
      "inter 4: ('great', 'good') 1.3452238\n",
      "inter 5: ('not', 'great') 1.2503706\n"
     ]
    }
   ],
   "source": [
    "print(sentence + \"\\n\")\n",
    "\n",
    "dom_map = data_inst[\"domain_mapper\"]\n",
    "\n",
    "lime_atts = get_lime_attributions(Xs, Ys)\n",
    "print(\"main effects:\", map_words([i for i, a in lime_atts if a*(pred*2-1) > 0], dom_map))\n",
    "\n",
    "print(\"\\ntop-5 interactions\")\n",
    "for i, inter_tuple in enumerate(interactions[:5]):\n",
    "    inter, strength = inter_tuple\n",
    "    word_inter = map_words(inter, dom_map)\n",
    "    print(\"inter {}:\".format(i+1), word_inter, strength)"
   ]
  }
 ],
 "metadata": {
  "kernelspec": {
   "display_name": "Python [conda env:torch]",
   "language": "python",
   "name": "conda-env-torch-py"
  },
  "language_info": {
   "codemirror_mode": {
    "name": "ipython",
    "version": 3
   },
   "file_extension": ".py",
   "mimetype": "text/x-python",
   "name": "python",
   "nbconvert_exporter": "python",
   "pygments_lexer": "ipython3",
   "version": "3.6.2"
  }
 },
 "nbformat": 4,
 "nbformat_minor": 4
}
