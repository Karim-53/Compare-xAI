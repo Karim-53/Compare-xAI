{
 "cells": [
  {
   "cell_type": "code",
   "execution_count": 1,
   "metadata": {},
   "outputs": [],
   "source": [
    "from torchtext import datasets, data\n",
    "import numpy as np\n",
    "import os, sys\n",
    "from time import time\n",
    "\n",
    "sys.path.append(\"../1. madex\")\n",
    "\n",
    "from neural_interaction_detection import *\n",
    "from sampling_and_inference import *\n",
    "from utils.dna_utils import *\n",
    "\n",
    "%matplotlib inline\n",
    "\n",
    "import warnings\n",
    "warnings.filterwarnings(\"ignore\")\n",
    "\n",
    "%load_ext autoreload\n",
    "%autoreload 2\n",
    "\n",
    "device = torch.device(\"cuda:0\")"
   ]
  },
  {
   "cell_type": "markdown",
   "metadata": {},
   "source": [
    "## Load Model"
   ]
  },
  {
   "cell_type": "code",
   "execution_count": 2,
   "metadata": {},
   "outputs": [],
   "source": [
    "model = load_dna_model(\"utils/pretrained/dna_cnn.pt\").to(device)"
   ]
  },
  {
   "cell_type": "markdown",
   "metadata": {},
   "source": [
    "## Get DNA Sequence"
   ]
  },
  {
   "cell_type": "code",
   "execution_count": 3,
   "metadata": {},
   "outputs": [
    {
     "name": "stdout",
     "output_type": "stream",
     "text": [
      "GTAGGTAAGCGCACGTGTTGCACTTCCCTTAATCCA True\n"
     ]
    }
   ],
   "source": [
    "np.random.seed(42)\n",
    "seq_instance = generate_random_dna_sequence_with_CACGTG()\n",
    "print(seq_instance, \"CACGTG\" in seq_instance)"
   ]
  },
  {
   "cell_type": "markdown",
   "metadata": {},
   "source": [
    "## Run MADEX"
   ]
  },
  {
   "cell_type": "code",
   "execution_count": 4,
   "metadata": {},
   "outputs": [
    {
     "name": "stderr",
     "output_type": "stream",
     "text": [
      "100%|██████████| 60/60 [00:02<00:00, 29.46it/s]\n"
     ]
    }
   ],
   "source": [
    "data_inst = {\"orig\": seq_instance, \"vectorizer\": encode_dna_onehot}\n",
    "Xs, Ys = generate_perturbation_dataset_dna(data_inst, model, device, seed=42)"
   ]
  },
  {
   "cell_type": "code",
   "execution_count": 5,
   "metadata": {},
   "outputs": [
    {
     "name": "stdout",
     "output_type": "stream",
     "text": [
      "0.0046 test loss, 16.0 seconds elapsed\n"
     ]
    }
   ],
   "source": [
    "t0 = time()\n",
    "interactions, mlp_loss = detect_interactions(Xs, Ys, weight_samples=False, seed=42, verbose=False, add_linear=False)\n",
    "print(\"{} test loss, {} seconds elapsed\".format(round(mlp_loss, 4), round(time() - t0, 1)))"
   ]
  },
  {
   "cell_type": "code",
   "execution_count": 6,
   "metadata": {},
   "outputs": [
    {
     "name": "stdout",
     "output_type": "stream",
     "text": [
      "interaction ranking \n",
      "\n",
      "1 found CACGTG >> ('C_11', 'A_12', 'C_13', 'G_14', 'T_15', 'G_16')\n",
      "2  ('A_21', 'C_25')\n",
      "3  ('C_11', 'A_12', 'C_13', 'G_14', 'T_15', 'G_16', 'A_21')\n",
      "4  ('C_11', 'A_12', 'C_13', 'G_14', 'T_15', 'G_16', 'T_18')\n",
      "5  ('A_21', 'C_25', 'C_26')\n",
      "6  ('A_21', 'T_23', 'C_25', 'C_26')\n",
      "7  ('A_21', 'T_23', 'C_25', 'C_26', 'T_28')\n",
      "8  ('A_2', 'C_11', 'A_12', 'C_13', 'G_14', 'T_15', 'G_16', 'T_18')\n",
      "9  ('A_2', 'A_6', 'C_11', 'A_12', 'C_13', 'G_14', 'T_15', 'G_16', 'T_18')\n",
      "10  ('A_2', 'A_6', 'C_11', 'A_12', 'C_13', 'G_14', 'T_15', 'G_16', 'T_18', 'C_20')\n"
     ]
    }
   ],
   "source": [
    "print(\"interaction ranking\", \"\\n\")\n",
    "for rank, inter in enumerate(interactions[:10]):\n",
    "    inter_indices, _ = inter\n",
    "    inter_verbose = tuple((seq_instance[s], s) for s in inter_indices)\n",
    "\n",
    "    inter_nucleotides, _ = zip(*inter_verbose)\n",
    "    if \"\".join(inter_nucleotides) == \"CACGTG\" and all(np.diff(inter_indices) == 1):\n",
    "        postfix = \"found CACGTG >>\"\n",
    "    else:\n",
    "        postfix = \"\"\n",
    "    print(rank+1, postfix, tuple(a + \"_\" + str(b) for a,b in inter_verbose))\n",
    "\n"
   ]
  }
 ],
 "metadata": {
  "kernelspec": {
   "display_name": "Python [conda env:torch]",
   "language": "python",
   "name": "conda-env-torch-py"
  },
  "language_info": {
   "codemirror_mode": {
    "name": "ipython",
    "version": 3
   },
   "file_extension": ".py",
   "mimetype": "text/x-python",
   "name": "python",
   "nbconvert_exporter": "python",
   "pygments_lexer": "ipython3",
   "version": "3.6.2"
  }
 },
 "nbformat": 4,
 "nbformat_minor": 4
}
