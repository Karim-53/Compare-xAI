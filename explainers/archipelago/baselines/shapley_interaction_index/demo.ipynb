{
 "cells": [
  {
   "cell_type": "code",
   "execution_count": 1,
   "metadata": {},
   "outputs": [],
   "source": [
    "import numpy as np\n",
    "import sys\n",
    "\n",
    "sys.path.append(\"../../src\")\n",
    "from si_explainer import SiExplainer\n",
    "sys.path.append(\"../../experiments/1. archdetect\")\n",
    "from synthetic_utils import *\n",
    "\n",
    "%load_ext autoreload\n",
    "%autoreload 2"
   ]
  },
  {
   "cell_type": "markdown",
   "metadata": {},
   "source": [
    "## Parameters"
   ]
  },
  {
   "cell_type": "code",
   "execution_count": 2,
   "metadata": {},
   "outputs": [],
   "source": [
    "function_id = 1\n",
    "\n",
    "p = 40 # num features\n",
    "input_value, base_value = 1, -1"
   ]
  },
  {
   "cell_type": "markdown",
   "metadata": {},
   "source": [
    "## Get Data and Synthetic Function"
   ]
  },
  {
   "cell_type": "code",
   "execution_count": 3,
   "metadata": {},
   "outputs": [
    {
     "name": "stdout",
     "output_type": "stream",
     "text": [
      "function id: 1\n"
     ]
    }
   ],
   "source": [
    "input = np.array([input_value]*p)\n",
    "baseline = np.array([base_value]*p)\n",
    "\n",
    "print(\"function id:\", function_id)\n",
    "model = synth_model(function_id, input_value, base_value)\n",
    "gts = model.get_gts(p)"
   ]
  },
  {
   "cell_type": "markdown",
   "metadata": {},
   "source": [
    "## Get Explanation"
   ]
  },
  {
   "cell_type": "code",
   "execution_count": 4,
   "metadata": {},
   "outputs": [],
   "source": [
    "si_method = SiExplainer(model, input=input, baseline=baseline, output_indices=0, batch_size=20)"
   ]
  },
  {
   "cell_type": "markdown",
   "metadata": {},
   "source": [
    "### Individual Tests"
   ]
  },
  {
   "cell_type": "code",
   "execution_count": 5,
   "metadata": {},
   "outputs": [],
   "source": [
    "num_T = 1\n",
    "\n",
    "inters = dict()\n",
    "for i in range(p):\n",
    "    for j in range(i+1, p):\n",
    "        if i == j: continue\n",
    "        S = (i,j)\n",
    "        \n",
    "        att = si_method.attribution(S, num_T)\n",
    "        inters[S] = att**2\n",
    "                \n",
    "for i in range(p):\n",
    "    att = si_method.attribution([i], num_T)**2"
   ]
  },
  {
   "cell_type": "code",
   "execution_count": 6,
   "metadata": {},
   "outputs": [
    {
     "name": "stdout",
     "output_type": "stream",
     "text": [
      "auc 1.0\n"
     ]
    }
   ],
   "source": [
    "print(\"auc\", get_auc(inters.items(), gts))"
   ]
  },
  {
   "cell_type": "markdown",
   "metadata": {},
   "source": [
    "### Batch Version"
   ]
  },
  {
   "cell_type": "code",
   "execution_count": 7,
   "metadata": {},
   "outputs": [],
   "source": [
    "mat = si_method.batch_attribution(num_T, pairwise=True)\n",
    "arr = si_method.batch_attribution(num_T, main_effects=True, pairwise=False)\n",
    "\n",
    "inters = {}\n",
    "for i in range(p):\n",
    "    for j in range(i+1, p):\n",
    "        inters[(i,j)] = mat[i, j]**2"
   ]
  },
  {
   "cell_type": "code",
   "execution_count": 8,
   "metadata": {},
   "outputs": [
    {
     "name": "stdout",
     "output_type": "stream",
     "text": [
      "auc 1.0\n"
     ]
    }
   ],
   "source": [
    "print(\"auc\", get_auc(inters.items(), gts))"
   ]
  }
 ],
 "metadata": {
  "kernelspec": {
   "display_name": "Python [conda env:test]",
   "language": "python",
   "name": "conda-env-test-py"
  },
  "language_info": {
   "codemirror_mode": {
    "name": "ipython",
    "version": 3
   },
   "file_extension": ".py",
   "mimetype": "text/x-python",
   "name": "python",
   "nbconvert_exporter": "python",
   "pygments_lexer": "ipython3",
   "version": "3.6.7"
  }
 },
 "nbformat": 4,
 "nbformat_minor": 4
}
