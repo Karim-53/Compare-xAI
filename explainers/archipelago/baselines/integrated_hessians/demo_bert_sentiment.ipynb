{
 "cells": [
  {
   "cell_type": "code",
   "execution_count": 1,
   "metadata": {},
   "outputs": [],
   "source": [
    "%load_ext autoreload\n",
    "%autoreload 2"
   ]
  },
  {
   "cell_type": "code",
   "execution_count": 2,
   "metadata": {},
   "outputs": [],
   "source": [
    "import tensorflow as tf\n",
    "import numpy as np\n",
    "import sys\n",
    "import matplotlib.pyplot as plt\n",
    "import scipy\n",
    "from transformers import *\n",
    "\n",
    "from path_explain import utils\n",
    "from embedding_explainer_bert import EmbeddingExplainerTF\n",
    "\n",
    "utils.set_up_environment(visible_devices='0')\n",
    "from path_explain.plot.text import text_plot, matrix_interaction_plot, bar_interaction_plot\n",
    "from path_explain.plot.scatter import _set_axis_config\n",
    "from path_explain.plot import colors"
   ]
  },
  {
   "cell_type": "code",
   "execution_count": 3,
   "metadata": {},
   "outputs": [],
   "source": [
    "sys.path.append(\"../../src\")\n",
    "from application_utils.text_utils import prepare_huggingface_data"
   ]
  },
  {
   "cell_type": "markdown",
   "metadata": {},
   "source": [
    "## Get Model"
   ]
  },
  {
   "cell_type": "code",
   "execution_count": 4,
   "metadata": {},
   "outputs": [],
   "source": [
    "tokenizer = BertTokenizer.from_pretrained('bert-base-uncased')\n",
    "\n",
    "model_path = \"../../downloads/pretrained_bert\"\n",
    "model = TFBertForSequenceClassification.from_pretrained(model_path, from_pt=True)"
   ]
  },
  {
   "cell_type": "code",
   "execution_count": 5,
   "metadata": {},
   "outputs": [],
   "source": [
    "# Check TFBertMainLayer in \"https://github.com/huggingface/transformers/blob/601ac5b1dc1438f00d09696588f2deb0f045ae3b/src/transformers/modeling_tf_bert.py#L475\"\n",
    "\n",
    "def embedding_model(batch_ids):\n",
    "    batch_embedding = model.bert.embeddings( (batch_ids, None, None, None ))\n",
    "    return batch_embedding\n",
    "\n",
    "def prediction_model(batch_embedding, attention_mask):\n",
    "#     attention_mask = tf.ones(batch_embedding.shape[:2])  # not exactly sure about this\n",
    "    extended_attention_mask = attention_mask[:, tf.newaxis, tf.newaxis, :]\n",
    "    extended_attention_mask = tf.cast(extended_attention_mask, tf.float32)\n",
    "    extended_attention_mask = (1.0 - extended_attention_mask) * -10000.0\n",
    "    head_mask = [None] * model.bert.num_hidden_layers\n",
    "    \n",
    "    encoder_outputs = model.bert.encoder([batch_embedding, extended_attention_mask, head_mask], training=False)\n",
    "\n",
    "    sequence_output = encoder_outputs[0]\n",
    "    pooled_output = model.bert.pooler(sequence_output)    \n",
    "    logits = model.classifier(pooled_output)\n",
    "    return logits \n",
    "\n",
    "\n",
    "def get_predictions(sentences, embedding_only=False):\n",
    "    def print_sentence(index):\n",
    "        confidence = batch_conf[index]\n",
    "        predicted_label = batch_pred[index]\n",
    "        true_label = batch_labels[index]\n",
    "\n",
    "        encoded_sentence = batch_ids[index].numpy()\n",
    "        encoded_sentence = encoded_sentence[encoded_sentence != 0]\n",
    "\n",
    "        print(tokenizer.decode(encoded_sentence))\n",
    "        print('This sentence is:\\t{}'.format('positive' if true_label == 1 else 'negative'))\n",
    "        print('BERT predicts:\\t{} (confidence {:.4f})'.format('positive' if predicted_label == 1 else 'negative',\n",
    "                                                               batch_conf[index, predicted_label]))\n",
    "        print('-------------------------')\n",
    "        \n",
    "        \n",
    "    batch_input = prepare_huggingface_data(sentences, tokenizer)\n",
    "\n",
    "    for key in batch_input:\n",
    "        batch_input[key] = tf.convert_to_tensor(batch_input[key])\n",
    "        \n",
    "    batch_ids = batch_input['input_ids']\n",
    "    attention_mask = batch_input[\"attention_mask\"]\n",
    "    \n",
    "    batch_conf = model(batch_input)[0]\n",
    "    batch_conf = scipy.special.softmax(batch_conf, axis=-1)\n",
    "    batch_pred = np.argmax(batch_conf, axis=-1)\n",
    "    \n",
    "    batch_embedding = embedding_model(batch_ids)\n",
    "    batch_baseline = np.zeros((1, batch_ids.shape[1]), dtype=np.int64)    \n",
    "    baseline_embedding = embedding_model(batch_baseline)\n",
    "\n",
    "    batch_predictions = prediction_model(batch_embedding, attention_mask)\n",
    "\n",
    "    orig_token_list = []\n",
    "    for i in range(batch_ids.shape[0]):\n",
    "        ids = batch_ids[i].numpy()\n",
    "        tokens = tokenizer.convert_ids_to_tokens(ids)\n",
    "        orig_token_list.append(tokens)\n",
    "        \n",
    "    return batch_predictions, orig_token_list, batch_embedding, baseline_embedding, attention_mask\n"
   ]
  },
  {
   "cell_type": "markdown",
   "metadata": {},
   "source": [
    "## Get Data"
   ]
  },
  {
   "cell_type": "code",
   "execution_count": 6,
   "metadata": {},
   "outputs": [],
   "source": [
    "sentences = [\n",
    "#     'This movie was bad',\n",
    "#     'This movie was not bad',\n",
    "#     'A movie',\n",
    "#     'A bad movie',\n",
    "#     'A bad terrible movie',\n",
    "#     'A bad terrible awful movie',\n",
    "    'A bad, terrible, awful, horrible movie'\n",
    "]"
   ]
  },
  {
   "cell_type": "markdown",
   "metadata": {},
   "source": [
    "## Get Predictions"
   ]
  },
  {
   "cell_type": "code",
   "execution_count": null,
   "metadata": {},
   "outputs": [],
   "source": [
    "batch_predictions, orig_token_list, batch_embedding, baseline_embedding, attention_mask = get_predictions(sentences)"
   ]
  },
  {
   "cell_type": "code",
   "execution_count": 8,
   "metadata": {},
   "outputs": [
    {
     "data": {
      "text/plain": [
       "array([[ 3.510431, -4.253784]], dtype=float32)"
      ]
     },
     "execution_count": 8,
     "metadata": {},
     "output_type": "execute_result"
    }
   ],
   "source": [
    "batch_predictions.numpy()"
   ]
  },
  {
   "cell_type": "markdown",
   "metadata": {},
   "source": [
    "## Explain Predictions"
   ]
  },
  {
   "cell_type": "code",
   "execution_count": 9,
   "metadata": {},
   "outputs": [
    {
     "name": "stderr",
     "output_type": "stream",
     "text": [
      "100%|██████████| 1/1 [00:01<00:00,  1.63s/it]\n"
     ]
    }
   ],
   "source": [
    "explainer = EmbeddingExplainerTF(prediction_model)\n",
    "attributions = explainer.attributions(inputs=batch_embedding,\n",
    "                                      baseline=baseline_embedding,\n",
    "                                      batch_size=20,\n",
    "                                      num_samples=50,\n",
    "                                      use_expectation=False,\n",
    "                                      output_indices=1,\n",
    "                                      verbose=True,\n",
    "                                      attention_mask=attention_mask)"
   ]
  },
  {
   "cell_type": "code",
   "execution_count": 10,
   "metadata": {},
   "outputs": [
    {
     "name": "stderr",
     "output_type": "stream",
     "text": [
      "100%|██████████| 1/1 [00:59<00:00, 59.62s/it]\n"
     ]
    }
   ],
   "source": [
    "interactions = explainer.interactions(inputs=batch_embedding,\n",
    "                                      baseline=baseline_embedding,\n",
    "                                      batch_size=50,\n",
    "                                      num_samples=50,\n",
    "                                      use_expectation=False,\n",
    "                                      output_indices=1,\n",
    "                                      verbose=True,\n",
    "                                      attention_mask=attention_mask)"
   ]
  },
  {
   "cell_type": "code",
   "execution_count": 11,
   "metadata": {},
   "outputs": [],
   "source": [
    "token_list, attribution_list, interaction_list = utils.strip_tokens(orig_token_list, attributions, interactions)"
   ]
  },
  {
   "cell_type": "code",
   "execution_count": 12,
   "metadata": {},
   "outputs": [
    {
     "name": "stdout",
     "output_type": "stream",
     "text": [
      "\n",
      "\n",
      "\n"
     ]
    },
    {
     "data": {
      "image/png": "[encoded data removed]",
      "text/plain": [
       "<Figure size 720x144 with 2 Axes>"
      ]
     },
     "metadata": {
      "needs_background": "light"
     },
     "output_type": "display_data"
    },
    {
     "data": {
      "image/png": "[encoded data removed]",
      "text/plain": [
       "<Figure size 432x288 with 2 Axes>"
      ]
     },
     "metadata": {
      "needs_background": "light"
     },
     "output_type": "display_data"
    }
   ],
   "source": [
    "index = 0\n",
    "text_plot(token_list[index], attribution_list[index], interaction_matrix=interaction_list[index], interaction_index=None, zero_diagonals=False, include_legend=True)\n",
    "# plt.savefig('fincher_text.pdf')\n",
    "ax, text_ax = bar_interaction_plot(interaction_list[index], token_list[index], top_k=8)\n",
    "# plt.savefig('fincher_bar.pdf')\n",
    "print(\"\\n\\n\")"
   ]
  }
 ],
 "metadata": {
  "kernelspec": {
   "display_name": "Python [conda env:test]",
   "language": "python",
   "name": "conda-env-test-py"
  },
  "language_info": {
   "codemirror_mode": {
    "name": "ipython",
    "version": 3
   },
   "file_extension": ".py",
   "mimetype": "text/x-python",
   "name": "python",
   "nbconvert_exporter": "python",
   "pygments_lexer": "ipython3",
   "version": "3.6.7"
  }
 },
 "nbformat": 4,
 "nbformat_minor": 2
}
