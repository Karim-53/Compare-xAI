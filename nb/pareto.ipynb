{
 "cells": [
  {
   "cell_type": "code",
   "execution_count": null,
   "metadata": {
    "collapsed": true,
    "pycharm": {
     "is_executing": true
    }
   },
   "outputs": [],
   "source": [
    "import pandas as pd\n",
    "import plotly.express as px\n",
    "import plotly.graph_objects as go\n",
    "from paretoset import paretoset\n",
    "\n",
    "from src.io import load_results\n",
    "\n",
    "pd.options.plotting.backend = \"plotly\"\n",
    "from src.scoring import get_details"
   ]
  },
  {
   "cell_type": "code",
   "execution_count": 2,
   "outputs": [
    {
     "name": "stdout",
     "output_type": "stream",
     "text": [
      "                    time  score  eligible_points  percentage\n",
      "baseline_random     0.03   3.72               12        0.31\n",
      "saabas              0.06   5.04               10        0.50\n",
      "tree_shap           0.04   6.06               10        0.61\n",
      "sage               98.57   3.97                6        0.66\n",
      "kernel_shap        21.51   9.13               10        0.91\n",
      "lime             1417.11   8.56               12        0.71\n",
      "maple             567.10   8.23               12        0.69\n"
     ]
    }
   ],
   "source": [
    "result_df = load_results()\n",
    "summary_df, eligible_points_df, score_df  = get_details(result_df)"
   ],
   "metadata": {
    "collapsed": false,
    "pycharm": {
     "name": "#%%\n"
    }
   }
  },
  {
   "cell_type": "code",
   "execution_count": null,
   "outputs": [],
   "source": [
    "min_x_axis_value = .01\n",
    "def pareto(summary_df, title=\"Global performance of xAI methods\"):\n",
    "    summary_df.loc[summary_df.time < min_x_axis_value, 'time'] = min_x_axis_value\n",
    "    if summary_df.percentage.max() < 1.:\n",
    "        summary_df.percentage = summary_df.percentage * 100\n",
    "    summary_df['explainer_name'] = summary_df.index\n",
    "    # fig = go.Figure()\n",
    "    fig = px.scatter(summary_df,\n",
    "                     x='time',\n",
    "                     y='percentage',\n",
    "                     # s='explainer_name', # https://www.geeksforgeeks.org/how-to-annotate-matplotlib-scatter-plots/\n",
    "                     # c='eligible_points',\n",
    "                     text='explainer_name',\n",
    "                     log_x=True,\n",
    "                     labels={\n",
    "                         \"time\": \"Time (seconds)\",\n",
    "                         \"percentage\": \"Percentage %\",\n",
    "                         'eligible_points': 'maximum score',\n",
    "                         'explainer_name': 'Explainer'\n",
    "                     },\n",
    "                     title=title,\n",
    "                     )\n",
    "\n",
    "    mask = paretoset(summary_df[['percentage', 'time']], sense=[\"max\", \"min\"])\n",
    "    pareto_df = summary_df[mask].sort_values('time')\n",
    "    fig.add_trace(go.Line(x=pareto_df.time,  #logx=True,\n",
    "                          y=pareto_df.percentage,\n",
    "                          text=pareto_df.explainer_name,\n",
    "                          # textposition='middle right',\n",
    "                          name='Pareto front',\n",
    "                          ))\n",
    "    fig.show();\n",
    "\n",
    "pareto(summary_df)"
   ],
   "metadata": {
    "collapsed": false,
    "pycharm": {
     "name": "#%%\n"
    }
   }
  },
  {
   "cell_type": "code",
   "execution_count": null,
   "outputs": [],
   "source": [
    "from src.scoring import restrict_tests\n",
    "\n",
    "result_df_restricted = restrict_tests(result_df,\n",
    "                                      criteria={'importance': True,\n",
    "                                                'attribution': False,\n",
    "                                                'interaction': False, },\n",
    "                                      supported_model=None)\n",
    "summary_df_restricted, eligible_points_df_restricted, score_df_restricted  = get_details(result_df_restricted)\n",
    "pareto(summary_df_restricted, title=\"Performance of xAI methods: Feature Importance only\")"
   ],
   "metadata": {
    "collapsed": false,
    "pycharm": {
     "name": "#%%\n"
    }
   }
  },
  {
   "cell_type": "code",
   "execution_count": null,
   "outputs": [],
   "source": [
    "# todo choose options to have a more fair comparaison\n",
    "\n",
    "# mention that sage is not comparable\n",
    "# Pareto front\n",
    "\n",
    "# test type: importance, attribution, interaction\n",
    "# todo [after acceptance] gpu / cpu\n",
    "# model agnostic / tree based / ...\n"
   ],
   "metadata": {
    "collapsed": false,
    "pycharm": {
     "name": "#%%\n"
    }
   }
  }
 ],
 "metadata": {
  "kernelspec": {
   "display_name": "Python 3",
   "language": "python",
   "name": "python3"
  },
  "language_info": {
   "codemirror_mode": {
    "name": "ipython",
    "version": 2
   },
   "file_extension": ".py",
   "mimetype": "text/x-python",
   "name": "python",
   "nbconvert_exporter": "python",
   "pygments_lexer": "ipython2",
   "version": "2.7.6"
  }
 },
 "nbformat": 4,
 "nbformat_minor": 0
}