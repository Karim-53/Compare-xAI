{
 "cells": [
  {
   "cell_type": "code",
   "execution_count": null,
   "outputs": [],
   "source": [
    "import pandas as pd\n",
    "from plotly import express as px, graph_objects as go\n",
    "\n",
    "df = pd.DataFrame()\n",
    "df['x'] = [0, 1, 1, 2, 3, 6, 7, 7, 8, 8, 9, 9, 10, 11, 11, 12]\n",
    "df['y'] = [57, 55, 75, 23, 80, 66, 66, 23, 79, 79, 20, 71, 59, 74, 82, 77]\n",
    "df['explainer_name'] = ['tree_shap_approximation', 'saabas', 'tree_shap', 'baseline_random', 'archipelago',\n",
    "                        'shapley_taylor_interaction', 'partition', 'anova', 'permutation_partition', 'permutation',\n",
    "                        'shap_interaction', 'sage', 'maple', 'lime', 'kernel_shap', 'exact_shapley_values']\n",
    "\n",
    "fig = px.scatter(df,\n",
    "                     x='x',\n",
    "                     y='y',\n",
    "                     # size='dot_size',\n",
    "                     text='explainer_name',\n",
    "                     # log_x=True,\n",
    "                     labels={\n",
    "                         \"x\": \"Time\",\n",
    "                         \"y\": \"Score\",\n",
    "                         # 'dot_size': 'Portability',\n",
    "                         'explainer_name': 'Explainer '\n",
    "                     },\n",
    "                     title='No overlapping annotations',  # take some vertical space\n",
    "                     )\n",
    "def improve_text_position(x):\n",
    "    \"\"\" it is more efficient if the x values are sorted \"\"\"\n",
    "    positions = ['top center', 'bottom center']  # you can add more: left center ...\n",
    "    return [positions[i % len(positions)] for i in range(len(x))]\n",
    "\n",
    "fig.update_traces(textposition=improve_text_position(df['x']))\n",
    "fig.show()"
   ],
   "metadata": {
    "collapsed": false,
    "pycharm": {
     "name": "#%%\n"
    }
   }
  }
 ],
 "metadata": {
  "kernelspec": {
   "display_name": "Python 3",
   "language": "python",
   "name": "python3"
  },
  "language_info": {
   "codemirror_mode": {
    "name": "ipython",
    "version": 2
   },
   "file_extension": ".py",
   "mimetype": "text/x-python",
   "name": "python",
   "nbconvert_exporter": "python",
   "pygments_lexer": "ipython2",
   "version": "2.7.6"
  }
 },
 "nbformat": 4,
 "nbformat_minor": 0
}