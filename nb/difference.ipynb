{
 "cells": [
  {
   "cell_type": "code",
   "execution_count": 1,
   "metadata": {
    "collapsed": true
   },
   "outputs": [],
   "source": [
    "import pandas as pd\n",
    "\n",
    "from src.explainer import valid_explainers_dico\n",
    "from src.io import load_results\n",
    "\n",
    "pd.options.plotting.backend = \"plotly\"\n",
    "from src.scoring import get_score_df, get_eligible_points_df, get_summary_df"
   ]
  },
  {
   "cell_type": "code",
   "execution_count": 2,
   "outputs": [
    {
     "name": "stdout",
     "output_type": "stream",
     "text": [
      "                   time  score  eligible_points  percentage\n",
      "baseline_random    0.00   4.37               10        0.44\n",
      "saabas             0.03   5.04               10        0.50\n",
      "tree_shap          0.02   6.06               10        0.61\n",
      "sage               0.85   3.86                5        0.77\n",
      "kernel_shap       21.22   9.13               10        0.91\n",
      "lime              10.58   8.33               10        0.83\n",
      "maple            545.88   8.00               10        0.80\n"
     ]
    }
   ],
   "source": [
    "result_df = load_results()\n",
    "# todo make it multi index\n",
    "score_df = get_score_df(result_df)\n",
    "eligible_points_df = get_eligible_points_df(result_df)\n",
    "summary_df = get_summary_df(result_df, score_df, eligible_points_df)\n",
    "print(summary_df.round(2))"
   ],
   "metadata": {
    "collapsed": false,
    "pycharm": {
     "name": "#%%\n"
    }
   }
  },
  {
   "cell_type": "code",
   "execution_count": 3,
   "outputs": [
    {
     "data": {
      "text/plain": "                      x0_plus_x1_distribution_non_uniform_stat_dep  \\\nbaseline_random  {'score': {'is_feature_importance_symmetric': ...   \nsaabas           {'score': {'is_feature_importance_symmetric': ...   \ntree_shap        {'score': {'is_feature_importance_symmetric': ...   \nsage             {'score': {'is_feature_importance_symmetric': ...   \nkernel_shap      {'score': {'is_feature_importance_symmetric': ...   \nlime             {'score': {'is_feature_importance_symmetric': ...   \nmaple            {'score': {'is_feature_importance_symmetric': ...   \n\n                                                   cough_and_fever  \\\nbaseline_random  {'score': {'is_feature_importance_symmetric': ...   \nsaabas           {'score': {'is_feature_importance_symmetric': ...   \ntree_shap        {'score': {'is_feature_importance_symmetric': ...   \nsage             {'score': {'is_feature_importance_symmetric': ...   \nkernel_shap      {'score': {'is_feature_importance_symmetric': ...   \nlime             {'score': {'is_feature_importance_symmetric': ...   \nmaple            {'score': {'is_feature_importance_symmetric': ...   \n\n                                             cough_and_fever_10_90  \\\nbaseline_random  {'score': {'is_cough_more_important_than_fever...   \nsaabas           {'score': {'is_cough_more_important_than_fever...   \ntree_shap        {'score': {'is_cough_more_important_than_fever...   \nsage             {'score': {'is_cough_more_important_than_fever...   \nkernel_shap      {'score': {'is_cough_more_important_than_fever...   \nlime             {'score': {'is_cough_more_important_than_fever...   \nmaple            {'score': {'is_cough_more_important_than_fever...   \n\n                          x0_plus_x1_distribution_uniform_stat_dep  \\\nbaseline_random  {'score': {'is_feature_importance_symmetric': ...   \nsaabas           {'score': {'is_feature_importance_symmetric': ...   \ntree_shap        {'score': {'is_feature_importance_symmetric': ...   \nsage             {'score': {'is_feature_importance_symmetric': ...   \nkernel_shap      {'score': {'is_feature_importance_symmetric': ...   \nlime             {'score': {'is_feature_importance_symmetric': ...   \nmaple            {'score': {'is_feature_importance_symmetric': ...   \n\n                    x0_plus_x1_distribution_non_uniform_stat_indep  \nbaseline_random  {'score': {'is_feature_importance_symmetric': ...  \nsaabas           {'score': {'is_feature_importance_symmetric': ...  \ntree_shap        {'score': {'is_feature_importance_symmetric': ...  \nsage             {'score': {'is_feature_importance_symmetric': ...  \nkernel_shap      {'score': {'is_feature_importance_symmetric': ...  \nlime             {'score': {'is_feature_importance_symmetric': ...  \nmaple            {'score': {'is_feature_importance_symmetric': ...  ",
      "text/html": "<div>\n<style scoped>\n    .dataframe tbody tr th:only-of-type {\n        vertical-align: middle;\n    }\n\n    .dataframe tbody tr th {\n        vertical-align: top;\n    }\n\n    .dataframe thead th {\n        text-align: right;\n    }\n</style>\n<table border=\"1\" class=\"dataframe\">\n  <thead>\n    <tr style=\"text-align: right;\">\n      <th></th>\n      <th>x0_plus_x1_distribution_non_uniform_stat_dep</th>\n      <th>cough_and_fever</th>\n      <th>cough_and_fever_10_90</th>\n      <th>x0_plus_x1_distribution_uniform_stat_dep</th>\n      <th>x0_plus_x1_distribution_non_uniform_stat_indep</th>\n    </tr>\n  </thead>\n  <tbody>\n    <tr>\n      <th>baseline_random</th>\n      <td>{'score': {'is_feature_importance_symmetric': ...</td>\n      <td>{'score': {'is_feature_importance_symmetric': ...</td>\n      <td>{'score': {'is_cough_more_important_than_fever...</td>\n      <td>{'score': {'is_feature_importance_symmetric': ...</td>\n      <td>{'score': {'is_feature_importance_symmetric': ...</td>\n    </tr>\n    <tr>\n      <th>saabas</th>\n      <td>{'score': {'is_feature_importance_symmetric': ...</td>\n      <td>{'score': {'is_feature_importance_symmetric': ...</td>\n      <td>{'score': {'is_cough_more_important_than_fever...</td>\n      <td>{'score': {'is_feature_importance_symmetric': ...</td>\n      <td>{'score': {'is_feature_importance_symmetric': ...</td>\n    </tr>\n    <tr>\n      <th>tree_shap</th>\n      <td>{'score': {'is_feature_importance_symmetric': ...</td>\n      <td>{'score': {'is_feature_importance_symmetric': ...</td>\n      <td>{'score': {'is_cough_more_important_than_fever...</td>\n      <td>{'score': {'is_feature_importance_symmetric': ...</td>\n      <td>{'score': {'is_feature_importance_symmetric': ...</td>\n    </tr>\n    <tr>\n      <th>sage</th>\n      <td>{'score': {'is_feature_importance_symmetric': ...</td>\n      <td>{'score': {'is_feature_importance_symmetric': ...</td>\n      <td>{'score': {'is_cough_more_important_than_fever...</td>\n      <td>{'score': {'is_feature_importance_symmetric': ...</td>\n      <td>{'score': {'is_feature_importance_symmetric': ...</td>\n    </tr>\n    <tr>\n      <th>kernel_shap</th>\n      <td>{'score': {'is_feature_importance_symmetric': ...</td>\n      <td>{'score': {'is_feature_importance_symmetric': ...</td>\n      <td>{'score': {'is_cough_more_important_than_fever...</td>\n      <td>{'score': {'is_feature_importance_symmetric': ...</td>\n      <td>{'score': {'is_feature_importance_symmetric': ...</td>\n    </tr>\n    <tr>\n      <th>lime</th>\n      <td>{'score': {'is_feature_importance_symmetric': ...</td>\n      <td>{'score': {'is_feature_importance_symmetric': ...</td>\n      <td>{'score': {'is_cough_more_important_than_fever...</td>\n      <td>{'score': {'is_feature_importance_symmetric': ...</td>\n      <td>{'score': {'is_feature_importance_symmetric': ...</td>\n    </tr>\n    <tr>\n      <th>maple</th>\n      <td>{'score': {'is_feature_importance_symmetric': ...</td>\n      <td>{'score': {'is_feature_importance_symmetric': ...</td>\n      <td>{'score': {'is_cough_more_important_than_fever...</td>\n      <td>{'score': {'is_feature_importance_symmetric': ...</td>\n      <td>{'score': {'is_feature_importance_symmetric': ...</td>\n    </tr>\n  </tbody>\n</table>\n</div>"
     },
     "execution_count": 3,
     "metadata": {},
     "output_type": "execute_result"
    }
   ],
   "source": [
    "result_df"
   ],
   "metadata": {
    "collapsed": false,
    "pycharm": {
     "name": "#%%\n"
    }
   }
  },
  {
   "cell_type": "code",
   "execution_count": 27,
   "outputs": [],
   "source": [
    "def _round(x,n=0):\n",
    "    if x is None:\n",
    "        return None\n",
    "    return round(x,n)\n",
    "\n",
    "test_columns = []\n",
    "for test_name in result_df.columns:\n",
    "    for sub_test in result_df[test_name][0]['score'].keys():\n",
    "        new_col = f'{test_name}__{sub_test}'\n",
    "        test_columns.append(new_col)\n",
    "        summary_df[new_col] =  [_round(dico.get('score', {}).get(sub_test, None))\n",
    "                                                   for idx,dico in result_df[test_name].items()]\n",
    "    summary_df[test_name + '__time'] =  [_round(dico.get('time', None)) for idx,dico in result_df[test_name].items()]"
   ],
   "metadata": {
    "collapsed": false,
    "pycharm": {
     "name": "#%%\n"
    }
   }
  },
  {
   "cell_type": "code",
   "execution_count": 28,
   "outputs": [],
   "source": [
    "compare = ['sage', 'kernel_shap']  # , 'tree_shap'\n",
    "assert all([e_name in valid_explainers_dico.keys() for e_name in compare])"
   ],
   "metadata": {
    "collapsed": false,
    "pycharm": {
     "name": "#%%\n"
    }
   }
  },
  {
   "cell_type": "code",
   "execution_count": 58,
   "outputs": [
    {
     "data": {
      "text/plain": "                                                    sage  kernel_shap\n_time                                               0.85        21.22\n_score                                              3.86         9.13\n_eligible_points                                    5.00        10.00\n_percentage                                         0.77         0.91\nx0_plus_x1_distribution_non_uniform_stat_dep__i...  1.00         1.00\nx0_plus_x1_distribution_non_uniform_stat_dep__i...   NaN         1.00\nx0_plus_x1_distribution_non_uniform_stat_dep__time  0.00         1.00\ncough_and_fever__is_feature_importance_symmetric    0.00         1.00\ncough_and_fever__is_attribution_values_symmetric     NaN         1.00\ncough_and_fever__time                               0.00         6.00\ncough_and_fever_10_90__is_cough_more_important_...  1.00         1.00\ncough_and_fever_10_90__is_cough_attribution_hig...   NaN         1.00\ncough_and_fever_10_90__time                         0.00         7.00\nx0_plus_x1_distribution_uniform_stat_dep__is_fe...  1.00         1.00\nx0_plus_x1_distribution_uniform_stat_dep__is_at...   NaN         1.00\nx0_plus_x1_distribution_uniform_stat_dep__time      0.00         3.00\nx0_plus_x1_distribution_non_uniform_stat_indep_...  1.00         1.00\nx0_plus_x1_distribution_non_uniform_stat_indep_...   NaN         0.00\nx0_plus_x1_distribution_non_uniform_stat_indep_...  0.00         3.00",
      "text/html": "<div>\n<style scoped>\n    .dataframe tbody tr th:only-of-type {\n        vertical-align: middle;\n    }\n\n    .dataframe tbody tr th {\n        vertical-align: top;\n    }\n\n    .dataframe thead th {\n        text-align: right;\n    }\n</style>\n<table border=\"1\" class=\"dataframe\">\n  <thead>\n    <tr style=\"text-align: right;\">\n      <th></th>\n      <th>sage</th>\n      <th>kernel_shap</th>\n    </tr>\n  </thead>\n  <tbody>\n    <tr>\n      <th>_time</th>\n      <td>0.85</td>\n      <td>21.22</td>\n    </tr>\n    <tr>\n      <th>_score</th>\n      <td>3.86</td>\n      <td>9.13</td>\n    </tr>\n    <tr>\n      <th>_eligible_points</th>\n      <td>5.00</td>\n      <td>10.00</td>\n    </tr>\n    <tr>\n      <th>_percentage</th>\n      <td>0.77</td>\n      <td>0.91</td>\n    </tr>\n    <tr>\n      <th>x0_plus_x1_distribution_non_uniform_stat_dep__is_feature_importance_symmetric</th>\n      <td>1.00</td>\n      <td>1.00</td>\n    </tr>\n    <tr>\n      <th>x0_plus_x1_distribution_non_uniform_stat_dep__is_attribution_values_symmetric</th>\n      <td>NaN</td>\n      <td>1.00</td>\n    </tr>\n    <tr>\n      <th>x0_plus_x1_distribution_non_uniform_stat_dep__time</th>\n      <td>0.00</td>\n      <td>1.00</td>\n    </tr>\n    <tr>\n      <th>cough_and_fever__is_feature_importance_symmetric</th>\n      <td>0.00</td>\n      <td>1.00</td>\n    </tr>\n    <tr>\n      <th>cough_and_fever__is_attribution_values_symmetric</th>\n      <td>NaN</td>\n      <td>1.00</td>\n    </tr>\n    <tr>\n      <th>cough_and_fever__time</th>\n      <td>0.00</td>\n      <td>6.00</td>\n    </tr>\n    <tr>\n      <th>cough_and_fever_10_90__is_cough_more_important_than_fever</th>\n      <td>1.00</td>\n      <td>1.00</td>\n    </tr>\n    <tr>\n      <th>cough_and_fever_10_90__is_cough_attribution_higher_than_fever_attribution</th>\n      <td>NaN</td>\n      <td>1.00</td>\n    </tr>\n    <tr>\n      <th>cough_and_fever_10_90__time</th>\n      <td>0.00</td>\n      <td>7.00</td>\n    </tr>\n    <tr>\n      <th>x0_plus_x1_distribution_uniform_stat_dep__is_feature_importance_symmetric</th>\n      <td>1.00</td>\n      <td>1.00</td>\n    </tr>\n    <tr>\n      <th>x0_plus_x1_distribution_uniform_stat_dep__is_attribution_values_symmetric</th>\n      <td>NaN</td>\n      <td>1.00</td>\n    </tr>\n    <tr>\n      <th>x0_plus_x1_distribution_uniform_stat_dep__time</th>\n      <td>0.00</td>\n      <td>3.00</td>\n    </tr>\n    <tr>\n      <th>x0_plus_x1_distribution_non_uniform_stat_indep__is_feature_importance_symmetric</th>\n      <td>1.00</td>\n      <td>1.00</td>\n    </tr>\n    <tr>\n      <th>x0_plus_x1_distribution_non_uniform_stat_indep__is_attribution_values_symmetric</th>\n      <td>NaN</td>\n      <td>0.00</td>\n    </tr>\n    <tr>\n      <th>x0_plus_x1_distribution_non_uniform_stat_indep__time</th>\n      <td>0.00</td>\n      <td>3.00</td>\n    </tr>\n  </tbody>\n</table>\n</div>"
     },
     "execution_count": 58,
     "metadata": {},
     "output_type": "execute_result"
    }
   ],
   "source": [
    "df = summary_df.loc[compare].transpose().rename(index={'eligible_points':'_eligible_points',\n",
    "                                                       'percentage':'_percentage',\n",
    "                                                       'score':'_score',\n",
    "                                                       'time':'_time',})\n",
    "df.round(2)"
   ],
   "metadata": {
    "collapsed": false,
    "pycharm": {
     "name": "#%%\n"
    }
   }
  },
  {
   "cell_type": "code",
   "execution_count": 60,
   "outputs": [],
   "source": [
    "_common_rows = set(df.loc[df.notna().apply(all,axis=1)].index)\n",
    "common_tests = set(test_columns).intersection(_common_rows)\n",
    "\n",
    "score_common_tests = df.loc[common_tests].sum(axis=0).rename('__score_common_tests')\n",
    "df.loc['__score_common_tests'] = list(score_common_tests)"
   ],
   "metadata": {
    "collapsed": false,
    "pycharm": {
     "name": "#%%\n"
    }
   }
  },
  {
   "cell_type": "code",
   "execution_count": 62,
   "outputs": [],
   "source": [
    "list_common_rows = list(_common_rows) + ['__score_common_tests']"
   ],
   "metadata": {
    "collapsed": false,
    "pycharm": {
     "name": "#%%\n"
    }
   }
  },
  {
   "cell_type": "code",
   "execution_count": 63,
   "outputs": [
    {
     "data": {
      "text/plain": "                                                    sage  kernel_shap\n__score_common_tests                                4.00         5.00\n_eligible_points                                    5.00        10.00\n_percentage                                         0.77         0.91\n_score                                              3.86         9.13\n_time                                               0.85        21.22\ncough_and_fever_10_90__is_cough_more_important_...  1.00         1.00\ncough_and_fever_10_90__time                         0.00         7.00\ncough_and_fever__is_feature_importance_symmetric    0.00         1.00\ncough_and_fever__time                               0.00         6.00\nx0_plus_x1_distribution_non_uniform_stat_dep__i...  1.00         1.00\nx0_plus_x1_distribution_non_uniform_stat_dep__time  0.00         1.00\nx0_plus_x1_distribution_non_uniform_stat_indep_...  1.00         1.00\nx0_plus_x1_distribution_non_uniform_stat_indep_...  0.00         3.00\nx0_plus_x1_distribution_uniform_stat_dep__is_fe...  1.00         1.00\nx0_plus_x1_distribution_uniform_stat_dep__time      0.00         3.00",
      "text/html": "<div>\n<style scoped>\n    .dataframe tbody tr th:only-of-type {\n        vertical-align: middle;\n    }\n\n    .dataframe tbody tr th {\n        vertical-align: top;\n    }\n\n    .dataframe thead th {\n        text-align: right;\n    }\n</style>\n<table border=\"1\" class=\"dataframe\">\n  <thead>\n    <tr style=\"text-align: right;\">\n      <th></th>\n      <th>sage</th>\n      <th>kernel_shap</th>\n    </tr>\n  </thead>\n  <tbody>\n    <tr>\n      <th>__score_common_tests</th>\n      <td>4.00</td>\n      <td>5.00</td>\n    </tr>\n    <tr>\n      <th>_eligible_points</th>\n      <td>5.00</td>\n      <td>10.00</td>\n    </tr>\n    <tr>\n      <th>_percentage</th>\n      <td>0.77</td>\n      <td>0.91</td>\n    </tr>\n    <tr>\n      <th>_score</th>\n      <td>3.86</td>\n      <td>9.13</td>\n    </tr>\n    <tr>\n      <th>_time</th>\n      <td>0.85</td>\n      <td>21.22</td>\n    </tr>\n    <tr>\n      <th>cough_and_fever_10_90__is_cough_more_important_than_fever</th>\n      <td>1.00</td>\n      <td>1.00</td>\n    </tr>\n    <tr>\n      <th>cough_and_fever_10_90__time</th>\n      <td>0.00</td>\n      <td>7.00</td>\n    </tr>\n    <tr>\n      <th>cough_and_fever__is_feature_importance_symmetric</th>\n      <td>0.00</td>\n      <td>1.00</td>\n    </tr>\n    <tr>\n      <th>cough_and_fever__time</th>\n      <td>0.00</td>\n      <td>6.00</td>\n    </tr>\n    <tr>\n      <th>x0_plus_x1_distribution_non_uniform_stat_dep__is_feature_importance_symmetric</th>\n      <td>1.00</td>\n      <td>1.00</td>\n    </tr>\n    <tr>\n      <th>x0_plus_x1_distribution_non_uniform_stat_dep__time</th>\n      <td>0.00</td>\n      <td>1.00</td>\n    </tr>\n    <tr>\n      <th>x0_plus_x1_distribution_non_uniform_stat_indep__is_feature_importance_symmetric</th>\n      <td>1.00</td>\n      <td>1.00</td>\n    </tr>\n    <tr>\n      <th>x0_plus_x1_distribution_non_uniform_stat_indep__time</th>\n      <td>0.00</td>\n      <td>3.00</td>\n    </tr>\n    <tr>\n      <th>x0_plus_x1_distribution_uniform_stat_dep__is_feature_importance_symmetric</th>\n      <td>1.00</td>\n      <td>1.00</td>\n    </tr>\n    <tr>\n      <th>x0_plus_x1_distribution_uniform_stat_dep__time</th>\n      <td>0.00</td>\n      <td>3.00</td>\n    </tr>\n  </tbody>\n</table>\n</div>"
     },
     "execution_count": 63,
     "metadata": {},
     "output_type": "execute_result"
    }
   ],
   "source": [
    "df_common = df.loc[list_common_rows].sort_index()\n",
    "df_common.round(2)"
   ],
   "metadata": {
    "collapsed": false,
    "pycharm": {
     "name": "#%%\n"
    }
   }
  },
  {
   "cell_type": "code",
   "execution_count": 64,
   "outputs": [
    {
     "data": {
      "text/plain": "                                                    sage  kernel_shap\nx0_plus_x1_distribution_uniform_stat_dep__is_fe...   1.0          1.0\ncough_and_fever_10_90__is_cough_more_important_...   1.0          1.0\ncough_and_fever__is_feature_importance_symmetric     0.0          1.0\nx0_plus_x1_distribution_non_uniform_stat_indep_...   1.0          1.0\nx0_plus_x1_distribution_non_uniform_stat_dep__i...   1.0          1.0",
      "text/html": "<div>\n<style scoped>\n    .dataframe tbody tr th:only-of-type {\n        vertical-align: middle;\n    }\n\n    .dataframe tbody tr th {\n        vertical-align: top;\n    }\n\n    .dataframe thead th {\n        text-align: right;\n    }\n</style>\n<table border=\"1\" class=\"dataframe\">\n  <thead>\n    <tr style=\"text-align: right;\">\n      <th></th>\n      <th>sage</th>\n      <th>kernel_shap</th>\n    </tr>\n  </thead>\n  <tbody>\n    <tr>\n      <th>x0_plus_x1_distribution_uniform_stat_dep__is_feature_importance_symmetric</th>\n      <td>1.0</td>\n      <td>1.0</td>\n    </tr>\n    <tr>\n      <th>cough_and_fever_10_90__is_cough_more_important_than_fever</th>\n      <td>1.0</td>\n      <td>1.0</td>\n    </tr>\n    <tr>\n      <th>cough_and_fever__is_feature_importance_symmetric</th>\n      <td>0.0</td>\n      <td>1.0</td>\n    </tr>\n    <tr>\n      <th>x0_plus_x1_distribution_non_uniform_stat_indep__is_feature_importance_symmetric</th>\n      <td>1.0</td>\n      <td>1.0</td>\n    </tr>\n    <tr>\n      <th>x0_plus_x1_distribution_non_uniform_stat_dep__is_feature_importance_symmetric</th>\n      <td>1.0</td>\n      <td>1.0</td>\n    </tr>\n  </tbody>\n</table>\n</div>"
     },
     "execution_count": 64,
     "metadata": {},
     "output_type": "execute_result"
    }
   ],
   "source": [
    "df_common.loc[common_tests]"
   ],
   "metadata": {
    "collapsed": false,
    "pycharm": {
     "name": "#%%\n"
    }
   }
  },
  {
   "cell_type": "code",
   "execution_count": null,
   "outputs": [],
   "source": [
    "# todo https://www.quora.com/How-do-I-highlight-a-row-in-Pandas-DataFrame\n",
    "# todo score sur les tests en commun"
   ],
   "metadata": {
    "collapsed": false,
    "pycharm": {
     "name": "#%%\n"
    }
   }
  }
 ],
 "metadata": {
  "kernelspec": {
   "display_name": "Python 3",
   "language": "python",
   "name": "python3"
  },
  "language_info": {
   "codemirror_mode": {
    "name": "ipython",
    "version": 2
   },
   "file_extension": ".py",
   "mimetype": "text/x-python",
   "name": "python",
   "nbconvert_exporter": "python",
   "pygments_lexer": "ipython2",
   "version": "2.7.6"
  }
 },
 "nbformat": 4,
 "nbformat_minor": 0
}