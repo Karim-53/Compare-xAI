{
 "cells": [
  {
   "cell_type": "code",
   "execution_count": 1,
   "metadata": {
    "collapsed": true
   },
   "outputs": [],
   "source": [
    "import pandas as pd\n",
    "\n",
    "from src.explainer import valid_explainers_dico\n",
    "from src.io import load_results\n",
    "\n",
    "pd.options.plotting.backend = \"plotly\"\n",
    "from src.scoring import get_score_df, get_eligible_points_df, get_summary_df"
   ]
  },
  {
   "cell_type": "code",
   "execution_count": 2,
   "outputs": [
    {
     "name": "stdout",
     "output_type": "stream",
     "text": [
      "                              time  score  eligible_points  percentage  \\\n",
      "baseline_random               1.00   3.13               18        0.17   \n",
      "saabas                        0.11   6.04               11        0.55   \n",
      "tree_shap                     0.09   8.26               11        0.75   \n",
      "archipelago                   1.11   4.00                5        0.80   \n",
      "shapley_taylor_interaction    9.03   3.29                5        0.66   \n",
      "shap_interaction            169.72   1.02                5        0.20   \n",
      "anova                        49.01   1.13                5        0.23   \n",
      "sage                        103.59   5.02                7        0.72   \n",
      "lime                        825.85  10.66               13        0.82   \n",
      "kernel_shap                  50.43  10.13               11        0.92   \n",
      "maple                       966.39   9.23               13        0.71   \n",
      "\n",
      "                            eligible_tests  time_per_test  \n",
      "baseline_random                         12           0.08  \n",
      "saabas                                   6           0.02  \n",
      "tree_shap                                6           0.01  \n",
      "archipelago                              5           0.22  \n",
      "shapley_taylor_interaction               5           1.81  \n",
      "shap_interaction                         5          33.94  \n",
      "anova                                    5           9.80  \n",
      "sage                                     7          14.80  \n",
      "lime                                     7         117.98  \n",
      "kernel_shap                              6           8.40  \n",
      "maple                                    7         138.06  \n"
     ]
    }
   ],
   "source": [
    "result_df = load_results()\n",
    "# todo make it multi index\n",
    "score_df = get_score_df(result_df)\n",
    "eligible_points_df = get_eligible_points_df(result_df)\n",
    "summary_df = get_summary_df(result_df, score_df, eligible_points_df)\n",
    "print(summary_df.round(2))"
   ],
   "metadata": {
    "collapsed": false,
    "pycharm": {
     "name": "#%%\n"
    }
   }
  },
  {
   "cell_type": "code",
   "execution_count": 3,
   "outputs": [
    {
     "data": {
      "text/plain": "                                                              cough_and_fever  \\\nbaseline_random             {'score': {'importance_symmetric': 0.233156890...   \nsaabas                      {'score': {'importance_symmetric': 1.0, 'is_at...   \ntree_shap                   {'score': {'importance_symmetric': 0.200000032...   \narchipelago                    {'Last_updated': '2022-03-26 12:23:49.279954'}   \nshapley_taylor_interaction     {'Last_updated': '2022-03-26 12:23:55.676175'}   \nshap_interaction               {'Last_updated': '2022-03-26 12:24:10.403280'}   \nanova                          {'Last_updated': '2022-03-26 12:27:04.937066'}   \nsage                        {'score': {'importance_symmetric': 0.0, 'is_at...   \nlime                        {'score': {'importance_symmetric': 0.978458175...   \nkernel_shap                 {'score': {'importance_symmetric': 1.0, 'is_at...   \nmaple                       {'score': {'importance_symmetric': 1.0, 'is_at...   \n\n                                                        cough_and_fever_10_90  \\\nbaseline_random             {'score': {'is_cough_more_important_than_fever...   \nsaabas                      {'score': {'is_cough_more_important_than_fever...   \ntree_shap                   {'score': {'is_cough_more_important_than_fever...   \narchipelago                    {'Last_updated': '2022-03-26 12:23:49.279954'}   \nshapley_taylor_interaction     {'Last_updated': '2022-03-26 12:23:55.677172'}   \nshap_interaction               {'Last_updated': '2022-03-26 12:24:10.403280'}   \nanova                          {'Last_updated': '2022-03-26 12:27:04.938062'}   \nsage                        {'score': {'is_cough_more_important_than_fever...   \nlime                        {'score': {'is_cough_more_important_than_fever...   \nkernel_shap                 {'score': {'is_cough_more_important_than_fever...   \nmaple                       {'score': {'is_cough_more_important_than_fever...   \n\n                                                                 a_and_b_or_c  \\\nbaseline_random             {'score': {'importance_x0_more_important': 0.0...   \nsaabas                      {'score': {'importance_x0_more_important': 1.0...   \ntree_shap                   {'score': {'importance_x0_more_important': 1.0...   \narchipelago                    {'Last_updated': '2022-03-26 12:23:49.280951'}   \nshapley_taylor_interaction     {'Last_updated': '2022-03-26 12:23:55.677172'}   \nshap_interaction               {'Last_updated': '2022-03-26 12:24:10.403280'}   \nanova                          {'Last_updated': '2022-03-26 12:27:04.938062'}   \nsage                        {'score': {'importance_x0_more_important': 1.0...   \nlime                        {'score': {'importance_x0_more_important': 1.0...   \nkernel_shap                 {'score': {'importance_x0_more_important': 1.0...   \nmaple                       {'score': {'importance_x0_more_important': 1.0...   \n\n                                      x0_plus_x1_distrib_non_uniform_stat_dep  \\\nbaseline_random             {'score': {'importance_symmetric': 0.0, 'is_at...   \nsaabas                      {'score': {'importance_symmetric': 0.616017222...   \ntree_shap                   {'score': {'importance_symmetric': 0.997620593...   \narchipelago                    {'Last_updated': '2022-03-26 12:23:49.280951'}   \nshapley_taylor_interaction     {'Last_updated': '2022-03-26 12:23:55.677172'}   \nshap_interaction               {'Last_updated': '2022-03-26 12:24:10.404276'}   \nanova                          {'Last_updated': '2022-03-26 12:27:04.938062'}   \nsage                        {'score': {'importance_symmetric': 0.981792764...   \nlime                        {'score': {'importance_symmetric': 0.993000365...   \nkernel_shap                 {'score': {'importance_symmetric': 0.997854977...   \nmaple                       {'score': {'importance_symmetric': 1.0, 'is_at...   \n\n                                          x0_plus_x1_distrib_uniform_stat_dep  \\\nbaseline_random             {'score': {'importance_symmetric': 0.969026384...   \nsaabas                      {'score': {'importance_symmetric': 0.600088864...   \ntree_shap                   {'score': {'importance_symmetric': 0.999991153...   \narchipelago                    {'Last_updated': '2022-03-26 12:23:49.280951'}   \nshapley_taylor_interaction     {'Last_updated': '2022-03-26 12:23:55.678170'}   \nshap_interaction               {'Last_updated': '2022-03-26 12:24:10.404276'}   \nanova                          {'Last_updated': '2022-03-26 12:27:04.939060'}   \nsage                        {'score': {'importance_symmetric': 0.941648178...   \nlime                        {'score': {'importance_symmetric': 0.999981030...   \nkernel_shap                 {'score': {'importance_symmetric': 1.0, 'is_at...   \nmaple                       {'score': {'importance_symmetric': 1.0, 'is_at...   \n\n                                    x0_plus_x1_distrib_non_uniform_stat_indep  \\\nbaseline_random             {'score': {'importance_symmetric': 0.753531215...   \nsaabas                      {'score': {'importance_symmetric': 0.999378770...   \ntree_shap                   {'score': {'importance_symmetric': 0.999380553...   \narchipelago                    {'Last_updated': '2022-03-26 12:23:49.281949'}   \nshapley_taylor_interaction     {'Last_updated': '2022-03-26 12:23:55.678170'}   \nshap_interaction               {'Last_updated': '2022-03-26 12:24:10.404276'}   \nanova                          {'Last_updated': '2022-03-26 12:27:04.939060'}   \nsage                        {'score': {'importance_symmetric': 0.982806134...   \nlime                        {'score': {'importance_symmetric': 0.998901905...   \nkernel_shap                 {'score': {'importance_symmetric': 0.999378778...   \nmaple                       {'score': {'importance_symmetric': 1.0, 'is_at...   \n\n                                                          detect_interaction0  \\\nbaseline_random             {'score': {'interaction_detection': 0.0}, 'tim...   \nsaabas                         {'Last_updated': '2022-03-26 12:23:48.912916'}   \ntree_shap                      {'Last_updated': '2022-03-26 12:23:49.246535'}   \narchipelago                 {'score': {'interaction_detection': 0.0}, 'tim...   \nshapley_taylor_interaction  {'score': {'interaction_detection': 0.0}, 'tim...   \nshap_interaction            {'score': {'interaction_detection': 0.0}, 'tim...   \nanova                       {'score': {'interaction_detection': 0.0}, 'tim...   \nsage                           {'Last_updated': '2022-03-26 12:27:59.735222'}   \nlime                           {'Last_updated': '2022-03-26 12:54:49.551813'}   \nkernel_shap                    {'Last_updated': '2022-03-26 13:09:43.711020'}   \nmaple                          {'Last_updated': '2022-03-26 13:25:38.895699'}   \n\n                                                          detect_interaction1  \\\nbaseline_random             {'score': {'interaction_detection': 0.0}, 'tim...   \nsaabas                         {'Last_updated': '2022-03-26 12:23:48.912916'}   \ntree_shap                      {'Last_updated': '2022-03-26 12:23:49.246535'}   \narchipelago                 {'score': {'interaction_detection': 1.0}, 'tim...   \nshapley_taylor_interaction  {'score': {'interaction_detection': 1.0}, 'tim...   \nshap_interaction            {'score': {'interaction_detection': 1.0}, 'tim...   \nanova                       {'score': {'interaction_detection': 1.0}, 'tim...   \nsage                           {'Last_updated': '2022-03-26 12:27:59.736218'}   \nlime                           {'Last_updated': '2022-03-26 12:54:49.552810'}   \nkernel_shap                    {'Last_updated': '2022-03-26 13:09:43.712017'}   \nmaple                          {'Last_updated': '2022-03-26 13:25:38.895699'}   \n\n                                                          detect_interaction2  \\\nbaseline_random             {'score': {'interaction_detection': 0.02701197...   \nsaabas                         {'Last_updated': '2022-03-26 12:23:48.913913'}   \ntree_shap                      {'Last_updated': '2022-03-26 12:23:49.246535'}   \narchipelago                 {'score': {'interaction_detection': 1.0}, 'tim...   \nshapley_taylor_interaction  {'score': {'interaction_detection': 0.90746268...   \nshap_interaction            {'score': {'interaction_detection': 0.0}, 'tim...   \nanova                       {'score': {'interaction_detection': 0.01813181...   \nsage                           {'Last_updated': '2022-03-26 12:27:59.736218'}   \nlime                           {'Last_updated': '2022-03-26 12:54:49.552810'}   \nkernel_shap                    {'Last_updated': '2022-03-26 13:09:43.712017'}   \nmaple                          {'Last_updated': '2022-03-26 13:25:38.895699'}   \n\n                                                          detect_interaction3  \\\nbaseline_random             {'score': {'interaction_detection': 0.02701197...   \nsaabas                         {'Last_updated': '2022-03-26 12:23:48.914910'}   \ntree_shap                      {'Last_updated': '2022-03-26 12:23:49.247531'}   \narchipelago                 {'score': {'interaction_detection': 1.0}, 'tim...   \nshapley_taylor_interaction  {'score': {'interaction_detection': 0.52835820...   \nshap_interaction            {'score': {'interaction_detection': 0.0}, 'tim...   \nanova                       {'score': {'interaction_detection': 0.01813181...   \nsage                           {'Last_updated': '2022-03-26 12:27:59.736218'}   \nlime                           {'Last_updated': '2022-03-26 12:54:49.552810'}   \nkernel_shap                    {'Last_updated': '2022-03-26 13:09:43.712017'}   \nmaple                          {'Last_updated': '2022-03-26 13:25:38.895699'}   \n\n                                                          detect_interaction4  \\\nbaseline_random             {'score': {'interaction_detection': 0.0}, 'tim...   \nsaabas                         {'Last_updated': '2022-03-26 12:23:48.914910'}   \ntree_shap                      {'Last_updated': '2022-03-26 12:23:49.247531'}   \narchipelago                 {'score': {'interaction_detection': 1.0}, 'tim...   \nshapley_taylor_interaction  {'score': {'interaction_detection': 0.85492227...   \nshap_interaction            {'score': {'interaction_detection': 0.01554404...   \nanova                       {'score': {'interaction_detection': 0.09756291...   \nsage                           {'Last_updated': '2022-03-26 12:27:59.737215'}   \nlime                           {'Last_updated': '2022-03-26 12:54:49.553807'}   \nkernel_shap                    {'Last_updated': '2022-03-26 13:09:43.712017'}   \nmaple                          {'Last_updated': '2022-03-26 13:25:38.895699'}   \n\n                                                                        mnist  \nbaseline_random             {'score': {'importance_dummy': 0.0, 'attributi...  \nsaabas                      {'score': {'importance_dummy': None, 'attribut...  \ntree_shap                   {'score': {'importance_dummy': None, 'attribut...  \narchipelago                    {'Last_updated': '2022-03-26 12:23:55.676175'}  \nshapley_taylor_interaction     {'Last_updated': '2022-03-26 12:24:10.403280'}  \nshap_interaction               {'Last_updated': '2022-03-26 12:27:04.937066'}  \nanova                          {'Last_updated': '2022-03-26 12:27:58.955308'}  \nsage                        {'score': {'importance_dummy': 0.1135204081632...  \nlime                        {'score': {'importance_dummy': 0.1135204081632...  \nkernel_shap                 {'score': {'importance_dummy': None, 'attribut...  \nmaple                       {'score': {'importance_dummy': 0.1135204081632...  ",
      "text/html": "<div>\n<style scoped>\n    .dataframe tbody tr th:only-of-type {\n        vertical-align: middle;\n    }\n\n    .dataframe tbody tr th {\n        vertical-align: top;\n    }\n\n    .dataframe thead th {\n        text-align: right;\n    }\n</style>\n<table border=\"1\" class=\"dataframe\">\n  <thead>\n    <tr style=\"text-align: right;\">\n      <th></th>\n      <th>cough_and_fever</th>\n      <th>cough_and_fever_10_90</th>\n      <th>a_and_b_or_c</th>\n      <th>x0_plus_x1_distrib_non_uniform_stat_dep</th>\n      <th>x0_plus_x1_distrib_uniform_stat_dep</th>\n      <th>x0_plus_x1_distrib_non_uniform_stat_indep</th>\n      <th>detect_interaction0</th>\n      <th>detect_interaction1</th>\n      <th>detect_interaction2</th>\n      <th>detect_interaction3</th>\n      <th>detect_interaction4</th>\n      <th>mnist</th>\n    </tr>\n  </thead>\n  <tbody>\n    <tr>\n      <th>baseline_random</th>\n      <td>{'score': {'importance_symmetric': 0.233156890...</td>\n      <td>{'score': {'is_cough_more_important_than_fever...</td>\n      <td>{'score': {'importance_x0_more_important': 0.0...</td>\n      <td>{'score': {'importance_symmetric': 0.0, 'is_at...</td>\n      <td>{'score': {'importance_symmetric': 0.969026384...</td>\n      <td>{'score': {'importance_symmetric': 0.753531215...</td>\n      <td>{'score': {'interaction_detection': 0.0}, 'tim...</td>\n      <td>{'score': {'interaction_detection': 0.0}, 'tim...</td>\n      <td>{'score': {'interaction_detection': 0.02701197...</td>\n      <td>{'score': {'interaction_detection': 0.02701197...</td>\n      <td>{'score': {'interaction_detection': 0.0}, 'tim...</td>\n      <td>{'score': {'importance_dummy': 0.0, 'attributi...</td>\n    </tr>\n    <tr>\n      <th>saabas</th>\n      <td>{'score': {'importance_symmetric': 1.0, 'is_at...</td>\n      <td>{'score': {'is_cough_more_important_than_fever...</td>\n      <td>{'score': {'importance_x0_more_important': 1.0...</td>\n      <td>{'score': {'importance_symmetric': 0.616017222...</td>\n      <td>{'score': {'importance_symmetric': 0.600088864...</td>\n      <td>{'score': {'importance_symmetric': 0.999378770...</td>\n      <td>{'Last_updated': '2022-03-26 12:23:48.912916'}</td>\n      <td>{'Last_updated': '2022-03-26 12:23:48.912916'}</td>\n      <td>{'Last_updated': '2022-03-26 12:23:48.913913'}</td>\n      <td>{'Last_updated': '2022-03-26 12:23:48.914910'}</td>\n      <td>{'Last_updated': '2022-03-26 12:23:48.914910'}</td>\n      <td>{'score': {'importance_dummy': None, 'attribut...</td>\n    </tr>\n    <tr>\n      <th>tree_shap</th>\n      <td>{'score': {'importance_symmetric': 0.200000032...</td>\n      <td>{'score': {'is_cough_more_important_than_fever...</td>\n      <td>{'score': {'importance_x0_more_important': 1.0...</td>\n      <td>{'score': {'importance_symmetric': 0.997620593...</td>\n      <td>{'score': {'importance_symmetric': 0.999991153...</td>\n      <td>{'score': {'importance_symmetric': 0.999380553...</td>\n      <td>{'Last_updated': '2022-03-26 12:23:49.246535'}</td>\n      <td>{'Last_updated': '2022-03-26 12:23:49.246535'}</td>\n      <td>{'Last_updated': '2022-03-26 12:23:49.246535'}</td>\n      <td>{'Last_updated': '2022-03-26 12:23:49.247531'}</td>\n      <td>{'Last_updated': '2022-03-26 12:23:49.247531'}</td>\n      <td>{'score': {'importance_dummy': None, 'attribut...</td>\n    </tr>\n    <tr>\n      <th>archipelago</th>\n      <td>{'Last_updated': '2022-03-26 12:23:49.279954'}</td>\n      <td>{'Last_updated': '2022-03-26 12:23:49.279954'}</td>\n      <td>{'Last_updated': '2022-03-26 12:23:49.280951'}</td>\n      <td>{'Last_updated': '2022-03-26 12:23:49.280951'}</td>\n      <td>{'Last_updated': '2022-03-26 12:23:49.280951'}</td>\n      <td>{'Last_updated': '2022-03-26 12:23:49.281949'}</td>\n      <td>{'score': {'interaction_detection': 0.0}, 'tim...</td>\n      <td>{'score': {'interaction_detection': 1.0}, 'tim...</td>\n      <td>{'score': {'interaction_detection': 1.0}, 'tim...</td>\n      <td>{'score': {'interaction_detection': 1.0}, 'tim...</td>\n      <td>{'score': {'interaction_detection': 1.0}, 'tim...</td>\n      <td>{'Last_updated': '2022-03-26 12:23:55.676175'}</td>\n    </tr>\n    <tr>\n      <th>shapley_taylor_interaction</th>\n      <td>{'Last_updated': '2022-03-26 12:23:55.676175'}</td>\n      <td>{'Last_updated': '2022-03-26 12:23:55.677172'}</td>\n      <td>{'Last_updated': '2022-03-26 12:23:55.677172'}</td>\n      <td>{'Last_updated': '2022-03-26 12:23:55.677172'}</td>\n      <td>{'Last_updated': '2022-03-26 12:23:55.678170'}</td>\n      <td>{'Last_updated': '2022-03-26 12:23:55.678170'}</td>\n      <td>{'score': {'interaction_detection': 0.0}, 'tim...</td>\n      <td>{'score': {'interaction_detection': 1.0}, 'tim...</td>\n      <td>{'score': {'interaction_detection': 0.90746268...</td>\n      <td>{'score': {'interaction_detection': 0.52835820...</td>\n      <td>{'score': {'interaction_detection': 0.85492227...</td>\n      <td>{'Last_updated': '2022-03-26 12:24:10.403280'}</td>\n    </tr>\n    <tr>\n      <th>shap_interaction</th>\n      <td>{'Last_updated': '2022-03-26 12:24:10.403280'}</td>\n      <td>{'Last_updated': '2022-03-26 12:24:10.403280'}</td>\n      <td>{'Last_updated': '2022-03-26 12:24:10.403280'}</td>\n      <td>{'Last_updated': '2022-03-26 12:24:10.404276'}</td>\n      <td>{'Last_updated': '2022-03-26 12:24:10.404276'}</td>\n      <td>{'Last_updated': '2022-03-26 12:24:10.404276'}</td>\n      <td>{'score': {'interaction_detection': 0.0}, 'tim...</td>\n      <td>{'score': {'interaction_detection': 1.0}, 'tim...</td>\n      <td>{'score': {'interaction_detection': 0.0}, 'tim...</td>\n      <td>{'score': {'interaction_detection': 0.0}, 'tim...</td>\n      <td>{'score': {'interaction_detection': 0.01554404...</td>\n      <td>{'Last_updated': '2022-03-26 12:27:04.937066'}</td>\n    </tr>\n    <tr>\n      <th>anova</th>\n      <td>{'Last_updated': '2022-03-26 12:27:04.937066'}</td>\n      <td>{'Last_updated': '2022-03-26 12:27:04.938062'}</td>\n      <td>{'Last_updated': '2022-03-26 12:27:04.938062'}</td>\n      <td>{'Last_updated': '2022-03-26 12:27:04.938062'}</td>\n      <td>{'Last_updated': '2022-03-26 12:27:04.939060'}</td>\n      <td>{'Last_updated': '2022-03-26 12:27:04.939060'}</td>\n      <td>{'score': {'interaction_detection': 0.0}, 'tim...</td>\n      <td>{'score': {'interaction_detection': 1.0}, 'tim...</td>\n      <td>{'score': {'interaction_detection': 0.01813181...</td>\n      <td>{'score': {'interaction_detection': 0.01813181...</td>\n      <td>{'score': {'interaction_detection': 0.09756291...</td>\n      <td>{'Last_updated': '2022-03-26 12:27:58.955308'}</td>\n    </tr>\n    <tr>\n      <th>sage</th>\n      <td>{'score': {'importance_symmetric': 0.0, 'is_at...</td>\n      <td>{'score': {'is_cough_more_important_than_fever...</td>\n      <td>{'score': {'importance_x0_more_important': 1.0...</td>\n      <td>{'score': {'importance_symmetric': 0.981792764...</td>\n      <td>{'score': {'importance_symmetric': 0.941648178...</td>\n      <td>{'score': {'importance_symmetric': 0.982806134...</td>\n      <td>{'Last_updated': '2022-03-26 12:27:59.735222'}</td>\n      <td>{'Last_updated': '2022-03-26 12:27:59.736218'}</td>\n      <td>{'Last_updated': '2022-03-26 12:27:59.736218'}</td>\n      <td>{'Last_updated': '2022-03-26 12:27:59.736218'}</td>\n      <td>{'Last_updated': '2022-03-26 12:27:59.737215'}</td>\n      <td>{'score': {'importance_dummy': 0.1135204081632...</td>\n    </tr>\n    <tr>\n      <th>lime</th>\n      <td>{'score': {'importance_symmetric': 0.978458175...</td>\n      <td>{'score': {'is_cough_more_important_than_fever...</td>\n      <td>{'score': {'importance_x0_more_important': 1.0...</td>\n      <td>{'score': {'importance_symmetric': 0.993000365...</td>\n      <td>{'score': {'importance_symmetric': 0.999981030...</td>\n      <td>{'score': {'importance_symmetric': 0.998901905...</td>\n      <td>{'Last_updated': '2022-03-26 12:54:49.551813'}</td>\n      <td>{'Last_updated': '2022-03-26 12:54:49.552810'}</td>\n      <td>{'Last_updated': '2022-03-26 12:54:49.552810'}</td>\n      <td>{'Last_updated': '2022-03-26 12:54:49.552810'}</td>\n      <td>{'Last_updated': '2022-03-26 12:54:49.553807'}</td>\n      <td>{'score': {'importance_dummy': 0.1135204081632...</td>\n    </tr>\n    <tr>\n      <th>kernel_shap</th>\n      <td>{'score': {'importance_symmetric': 1.0, 'is_at...</td>\n      <td>{'score': {'is_cough_more_important_than_fever...</td>\n      <td>{'score': {'importance_x0_more_important': 1.0...</td>\n      <td>{'score': {'importance_symmetric': 0.997854977...</td>\n      <td>{'score': {'importance_symmetric': 1.0, 'is_at...</td>\n      <td>{'score': {'importance_symmetric': 0.999378778...</td>\n      <td>{'Last_updated': '2022-03-26 13:09:43.711020'}</td>\n      <td>{'Last_updated': '2022-03-26 13:09:43.712017'}</td>\n      <td>{'Last_updated': '2022-03-26 13:09:43.712017'}</td>\n      <td>{'Last_updated': '2022-03-26 13:09:43.712017'}</td>\n      <td>{'Last_updated': '2022-03-26 13:09:43.712017'}</td>\n      <td>{'score': {'importance_dummy': None, 'attribut...</td>\n    </tr>\n    <tr>\n      <th>maple</th>\n      <td>{'score': {'importance_symmetric': 1.0, 'is_at...</td>\n      <td>{'score': {'is_cough_more_important_than_fever...</td>\n      <td>{'score': {'importance_x0_more_important': 1.0...</td>\n      <td>{'score': {'importance_symmetric': 1.0, 'is_at...</td>\n      <td>{'score': {'importance_symmetric': 1.0, 'is_at...</td>\n      <td>{'score': {'importance_symmetric': 1.0, 'is_at...</td>\n      <td>{'Last_updated': '2022-03-26 13:25:38.895699'}</td>\n      <td>{'Last_updated': '2022-03-26 13:25:38.895699'}</td>\n      <td>{'Last_updated': '2022-03-26 13:25:38.895699'}</td>\n      <td>{'Last_updated': '2022-03-26 13:25:38.895699'}</td>\n      <td>{'Last_updated': '2022-03-26 13:25:38.895699'}</td>\n      <td>{'score': {'importance_dummy': 0.1135204081632...</td>\n    </tr>\n  </tbody>\n</table>\n</div>"
     },
     "execution_count": 3,
     "metadata": {},
     "output_type": "execute_result"
    }
   ],
   "source": [
    "result_df"
   ],
   "metadata": {
    "collapsed": false,
    "pycharm": {
     "name": "#%%\n"
    }
   }
  },
  {
   "cell_type": "code",
   "execution_count": 4,
   "outputs": [],
   "source": [
    "def _round(x,n=0):\n",
    "    if x is None:\n",
    "        return None\n",
    "    return round(x,n)\n",
    "\n",
    "test_columns = []\n",
    "for test_name in result_df.columns:\n",
    "    for sub_test in result_df[test_name][0]['score'].keys():\n",
    "        new_col = f'{test_name}__{sub_test}'\n",
    "        test_columns.append(new_col)\n",
    "        summary_df[new_col] =  [_round(dico.get('score', {}).get(sub_test, None))\n",
    "                                                   for idx,dico in result_df[test_name].items()]\n",
    "    summary_df[test_name + '__time'] =  [_round(dico.get('time', None)) for idx,dico in result_df[test_name].items()]"
   ],
   "metadata": {
    "collapsed": false,
    "pycharm": {
     "name": "#%%\n"
    }
   }
  },
  {
   "cell_type": "code",
   "execution_count": 5,
   "outputs": [],
   "source": [
    "compare = ['sage', 'kernel_shap']  # , 'tree_shap'\n",
    "assert all([e_name in valid_explainers_dico.keys() for e_name in compare])"
   ],
   "metadata": {
    "collapsed": false,
    "pycharm": {
     "name": "#%%\n"
    }
   }
  },
  {
   "cell_type": "code",
   "execution_count": 6,
   "outputs": [
    {
     "data": {
      "text/plain": "                                                      sage  kernel_shap\n_time                                               103.59        50.43\n_score                                                5.02        10.13\n_eligible_points                                      7.00        11.00\n_percentage                                           0.72         0.92\neligible_tests                                        7.00         6.00\ntime_per_test                                        14.80         8.40\ncough_and_fever__importance_symmetric                 0.00         1.00\ncough_and_fever__is_attribution_symmetric              NaN         1.00\ncough_and_fever__time                                 0.00         9.00\ncough_and_fever_10_90__is_cough_more_important_...    1.00         1.00\ncough_and_fever_10_90__is_cough_attribution_hig...     NaN         1.00\ncough_and_fever_10_90__time                           0.00         8.00\na_and_b_or_c__importance_x0_more_important            1.00         1.00\na_and_b_or_c__time                                    0.00        25.00\nx0_plus_x1_distrib_non_uniform_stat_dep__import...    1.00         1.00\nx0_plus_x1_distrib_non_uniform_stat_dep__is_att...     NaN         1.00\nx0_plus_x1_distrib_non_uniform_stat_dep__time         0.00         1.00\nx0_plus_x1_distrib_uniform_stat_dep__importance...    1.00         1.00\nx0_plus_x1_distrib_uniform_stat_dep__is_attribu...     NaN         1.00\nx0_plus_x1_distrib_uniform_stat_dep__time             0.00         4.00\nx0_plus_x1_distrib_non_uniform_stat_indep__impo...    1.00         1.00\nx0_plus_x1_distrib_non_uniform_stat_indep__is_a...     NaN         0.00\nx0_plus_x1_distrib_non_uniform_stat_indep__time       0.00         4.00\ndetect_interaction0__interaction_detection             NaN          NaN\ndetect_interaction0__time                              NaN          NaN\ndetect_interaction1__interaction_detection             NaN          NaN\ndetect_interaction1__time                              NaN          NaN\ndetect_interaction2__interaction_detection             NaN          NaN\ndetect_interaction2__time                              NaN          NaN\ndetect_interaction3__interaction_detection             NaN          NaN\ndetect_interaction3__time                              NaN          NaN\ndetect_interaction4__interaction_detection             NaN          NaN\ndetect_interaction4__time                              NaN          NaN\nmnist__importance_dummy                               0.00          NaN\nmnist__attributions_dummy                              NaN          NaN\nmnist__time                                         103.00         0.00",
      "text/html": "<div>\n<style scoped>\n    .dataframe tbody tr th:only-of-type {\n        vertical-align: middle;\n    }\n\n    .dataframe tbody tr th {\n        vertical-align: top;\n    }\n\n    .dataframe thead th {\n        text-align: right;\n    }\n</style>\n<table border=\"1\" class=\"dataframe\">\n  <thead>\n    <tr style=\"text-align: right;\">\n      <th></th>\n      <th>sage</th>\n      <th>kernel_shap</th>\n    </tr>\n  </thead>\n  <tbody>\n    <tr>\n      <th>_time</th>\n      <td>103.59</td>\n      <td>50.43</td>\n    </tr>\n    <tr>\n      <th>_score</th>\n      <td>5.02</td>\n      <td>10.13</td>\n    </tr>\n    <tr>\n      <th>_eligible_points</th>\n      <td>7.00</td>\n      <td>11.00</td>\n    </tr>\n    <tr>\n      <th>_percentage</th>\n      <td>0.72</td>\n      <td>0.92</td>\n    </tr>\n    <tr>\n      <th>eligible_tests</th>\n      <td>7.00</td>\n      <td>6.00</td>\n    </tr>\n    <tr>\n      <th>time_per_test</th>\n      <td>14.80</td>\n      <td>8.40</td>\n    </tr>\n    <tr>\n      <th>cough_and_fever__importance_symmetric</th>\n      <td>0.00</td>\n      <td>1.00</td>\n    </tr>\n    <tr>\n      <th>cough_and_fever__is_attribution_symmetric</th>\n      <td>NaN</td>\n      <td>1.00</td>\n    </tr>\n    <tr>\n      <th>cough_and_fever__time</th>\n      <td>0.00</td>\n      <td>9.00</td>\n    </tr>\n    <tr>\n      <th>cough_and_fever_10_90__is_cough_more_important_than_fever</th>\n      <td>1.00</td>\n      <td>1.00</td>\n    </tr>\n    <tr>\n      <th>cough_and_fever_10_90__is_cough_attribution_higher_than_fever_attribution</th>\n      <td>NaN</td>\n      <td>1.00</td>\n    </tr>\n    <tr>\n      <th>cough_and_fever_10_90__time</th>\n      <td>0.00</td>\n      <td>8.00</td>\n    </tr>\n    <tr>\n      <th>a_and_b_or_c__importance_x0_more_important</th>\n      <td>1.00</td>\n      <td>1.00</td>\n    </tr>\n    <tr>\n      <th>a_and_b_or_c__time</th>\n      <td>0.00</td>\n      <td>25.00</td>\n    </tr>\n    <tr>\n      <th>x0_plus_x1_distrib_non_uniform_stat_dep__importance_symmetric</th>\n      <td>1.00</td>\n      <td>1.00</td>\n    </tr>\n    <tr>\n      <th>x0_plus_x1_distrib_non_uniform_stat_dep__is_attribution_symmetric</th>\n      <td>NaN</td>\n      <td>1.00</td>\n    </tr>\n    <tr>\n      <th>x0_plus_x1_distrib_non_uniform_stat_dep__time</th>\n      <td>0.00</td>\n      <td>1.00</td>\n    </tr>\n    <tr>\n      <th>x0_plus_x1_distrib_uniform_stat_dep__importance_symmetric</th>\n      <td>1.00</td>\n      <td>1.00</td>\n    </tr>\n    <tr>\n      <th>x0_plus_x1_distrib_uniform_stat_dep__is_attribution_symmetric</th>\n      <td>NaN</td>\n      <td>1.00</td>\n    </tr>\n    <tr>\n      <th>x0_plus_x1_distrib_uniform_stat_dep__time</th>\n      <td>0.00</td>\n      <td>4.00</td>\n    </tr>\n    <tr>\n      <th>x0_plus_x1_distrib_non_uniform_stat_indep__importance_symmetric</th>\n      <td>1.00</td>\n      <td>1.00</td>\n    </tr>\n    <tr>\n      <th>x0_plus_x1_distrib_non_uniform_stat_indep__is_attribution_symmetric</th>\n      <td>NaN</td>\n      <td>0.00</td>\n    </tr>\n    <tr>\n      <th>x0_plus_x1_distrib_non_uniform_stat_indep__time</th>\n      <td>0.00</td>\n      <td>4.00</td>\n    </tr>\n    <tr>\n      <th>detect_interaction0__interaction_detection</th>\n      <td>NaN</td>\n      <td>NaN</td>\n    </tr>\n    <tr>\n      <th>detect_interaction0__time</th>\n      <td>NaN</td>\n      <td>NaN</td>\n    </tr>\n    <tr>\n      <th>detect_interaction1__interaction_detection</th>\n      <td>NaN</td>\n      <td>NaN</td>\n    </tr>\n    <tr>\n      <th>detect_interaction1__time</th>\n      <td>NaN</td>\n      <td>NaN</td>\n    </tr>\n    <tr>\n      <th>detect_interaction2__interaction_detection</th>\n      <td>NaN</td>\n      <td>NaN</td>\n    </tr>\n    <tr>\n      <th>detect_interaction2__time</th>\n      <td>NaN</td>\n      <td>NaN</td>\n    </tr>\n    <tr>\n      <th>detect_interaction3__interaction_detection</th>\n      <td>NaN</td>\n      <td>NaN</td>\n    </tr>\n    <tr>\n      <th>detect_interaction3__time</th>\n      <td>NaN</td>\n      <td>NaN</td>\n    </tr>\n    <tr>\n      <th>detect_interaction4__interaction_detection</th>\n      <td>NaN</td>\n      <td>NaN</td>\n    </tr>\n    <tr>\n      <th>detect_interaction4__time</th>\n      <td>NaN</td>\n      <td>NaN</td>\n    </tr>\n    <tr>\n      <th>mnist__importance_dummy</th>\n      <td>0.00</td>\n      <td>NaN</td>\n    </tr>\n    <tr>\n      <th>mnist__attributions_dummy</th>\n      <td>NaN</td>\n      <td>NaN</td>\n    </tr>\n    <tr>\n      <th>mnist__time</th>\n      <td>103.00</td>\n      <td>0.00</td>\n    </tr>\n  </tbody>\n</table>\n</div>"
     },
     "execution_count": 6,
     "metadata": {},
     "output_type": "execute_result"
    }
   ],
   "source": [
    "df = summary_df.loc[compare].transpose().rename(index={'eligible_points':'_eligible_points',\n",
    "                                                       'percentage':'_percentage',\n",
    "                                                       'score':'_score',\n",
    "                                                       'time':'_time',})\n",
    "df.round(2)"
   ],
   "metadata": {
    "collapsed": false,
    "pycharm": {
     "name": "#%%\n"
    }
   }
  },
  {
   "cell_type": "code",
   "execution_count": 7,
   "outputs": [],
   "source": [
    "_common_rows = set(df.loc[df.notna().apply(all,axis=1)].index)\n",
    "common_tests = set(test_columns).intersection(_common_rows)\n",
    "\n",
    "score_common_tests = df.loc[common_tests].sum(axis=0).rename('__score_common_tests')\n",
    "df.loc['__score_common_tests'] = list(score_common_tests)"
   ],
   "metadata": {
    "collapsed": false,
    "pycharm": {
     "name": "#%%\n"
    }
   }
  },
  {
   "cell_type": "code",
   "execution_count": 8,
   "outputs": [],
   "source": [
    "list_common_rows = list(_common_rows) + ['__score_common_tests']"
   ],
   "metadata": {
    "collapsed": false,
    "pycharm": {
     "name": "#%%\n"
    }
   }
  },
  {
   "cell_type": "code",
   "execution_count": 9,
   "outputs": [
    {
     "data": {
      "text/plain": "                                                      sage  kernel_shap\n__score_common_tests                                  5.00         6.00\n_eligible_points                                      7.00        11.00\n_percentage                                           0.72         0.92\n_score                                                5.02        10.13\n_time                                               103.59        50.43\na_and_b_or_c__importance_x0_more_important            1.00         1.00\na_and_b_or_c__time                                    0.00        25.00\ncough_and_fever_10_90__is_cough_more_important_...    1.00         1.00\ncough_and_fever_10_90__time                           0.00         8.00\ncough_and_fever__importance_symmetric                 0.00         1.00\ncough_and_fever__time                                 0.00         9.00\neligible_tests                                        7.00         6.00\nmnist__time                                         103.00         0.00\ntime_per_test                                        14.80         8.40\nx0_plus_x1_distrib_non_uniform_stat_dep__import...    1.00         1.00\nx0_plus_x1_distrib_non_uniform_stat_dep__time         0.00         1.00\nx0_plus_x1_distrib_non_uniform_stat_indep__impo...    1.00         1.00\nx0_plus_x1_distrib_non_uniform_stat_indep__time       0.00         4.00\nx0_plus_x1_distrib_uniform_stat_dep__importance...    1.00         1.00\nx0_plus_x1_distrib_uniform_stat_dep__time             0.00         4.00",
      "text/html": "<div>\n<style scoped>\n    .dataframe tbody tr th:only-of-type {\n        vertical-align: middle;\n    }\n\n    .dataframe tbody tr th {\n        vertical-align: top;\n    }\n\n    .dataframe thead th {\n        text-align: right;\n    }\n</style>\n<table border=\"1\" class=\"dataframe\">\n  <thead>\n    <tr style=\"text-align: right;\">\n      <th></th>\n      <th>sage</th>\n      <th>kernel_shap</th>\n    </tr>\n  </thead>\n  <tbody>\n    <tr>\n      <th>__score_common_tests</th>\n      <td>5.00</td>\n      <td>6.00</td>\n    </tr>\n    <tr>\n      <th>_eligible_points</th>\n      <td>7.00</td>\n      <td>11.00</td>\n    </tr>\n    <tr>\n      <th>_percentage</th>\n      <td>0.72</td>\n      <td>0.92</td>\n    </tr>\n    <tr>\n      <th>_score</th>\n      <td>5.02</td>\n      <td>10.13</td>\n    </tr>\n    <tr>\n      <th>_time</th>\n      <td>103.59</td>\n      <td>50.43</td>\n    </tr>\n    <tr>\n      <th>a_and_b_or_c__importance_x0_more_important</th>\n      <td>1.00</td>\n      <td>1.00</td>\n    </tr>\n    <tr>\n      <th>a_and_b_or_c__time</th>\n      <td>0.00</td>\n      <td>25.00</td>\n    </tr>\n    <tr>\n      <th>cough_and_fever_10_90__is_cough_more_important_than_fever</th>\n      <td>1.00</td>\n      <td>1.00</td>\n    </tr>\n    <tr>\n      <th>cough_and_fever_10_90__time</th>\n      <td>0.00</td>\n      <td>8.00</td>\n    </tr>\n    <tr>\n      <th>cough_and_fever__importance_symmetric</th>\n      <td>0.00</td>\n      <td>1.00</td>\n    </tr>\n    <tr>\n      <th>cough_and_fever__time</th>\n      <td>0.00</td>\n      <td>9.00</td>\n    </tr>\n    <tr>\n      <th>eligible_tests</th>\n      <td>7.00</td>\n      <td>6.00</td>\n    </tr>\n    <tr>\n      <th>mnist__time</th>\n      <td>103.00</td>\n      <td>0.00</td>\n    </tr>\n    <tr>\n      <th>time_per_test</th>\n      <td>14.80</td>\n      <td>8.40</td>\n    </tr>\n    <tr>\n      <th>x0_plus_x1_distrib_non_uniform_stat_dep__importance_symmetric</th>\n      <td>1.00</td>\n      <td>1.00</td>\n    </tr>\n    <tr>\n      <th>x0_plus_x1_distrib_non_uniform_stat_dep__time</th>\n      <td>0.00</td>\n      <td>1.00</td>\n    </tr>\n    <tr>\n      <th>x0_plus_x1_distrib_non_uniform_stat_indep__importance_symmetric</th>\n      <td>1.00</td>\n      <td>1.00</td>\n    </tr>\n    <tr>\n      <th>x0_plus_x1_distrib_non_uniform_stat_indep__time</th>\n      <td>0.00</td>\n      <td>4.00</td>\n    </tr>\n    <tr>\n      <th>x0_plus_x1_distrib_uniform_stat_dep__importance_symmetric</th>\n      <td>1.00</td>\n      <td>1.00</td>\n    </tr>\n    <tr>\n      <th>x0_plus_x1_distrib_uniform_stat_dep__time</th>\n      <td>0.00</td>\n      <td>4.00</td>\n    </tr>\n  </tbody>\n</table>\n</div>"
     },
     "execution_count": 9,
     "metadata": {},
     "output_type": "execute_result"
    }
   ],
   "source": [
    "df_common = df.loc[list_common_rows].sort_index()\n",
    "df_common.round(2)"
   ],
   "metadata": {
    "collapsed": false,
    "pycharm": {
     "name": "#%%\n"
    }
   }
  },
  {
   "cell_type": "code",
   "execution_count": 10,
   "outputs": [
    {
     "data": {
      "text/plain": "                                                    sage  kernel_shap\nx0_plus_x1_distrib_uniform_stat_dep__importance...   1.0          1.0\na_and_b_or_c__importance_x0_more_important           1.0          1.0\nx0_plus_x1_distrib_non_uniform_stat_indep__impo...   1.0          1.0\ncough_and_fever__importance_symmetric                0.0          1.0\ncough_and_fever_10_90__is_cough_more_important_...   1.0          1.0\nx0_plus_x1_distrib_non_uniform_stat_dep__import...   1.0          1.0",
      "text/html": "<div>\n<style scoped>\n    .dataframe tbody tr th:only-of-type {\n        vertical-align: middle;\n    }\n\n    .dataframe tbody tr th {\n        vertical-align: top;\n    }\n\n    .dataframe thead th {\n        text-align: right;\n    }\n</style>\n<table border=\"1\" class=\"dataframe\">\n  <thead>\n    <tr style=\"text-align: right;\">\n      <th></th>\n      <th>sage</th>\n      <th>kernel_shap</th>\n    </tr>\n  </thead>\n  <tbody>\n    <tr>\n      <th>x0_plus_x1_distrib_uniform_stat_dep__importance_symmetric</th>\n      <td>1.0</td>\n      <td>1.0</td>\n    </tr>\n    <tr>\n      <th>a_and_b_or_c__importance_x0_more_important</th>\n      <td>1.0</td>\n      <td>1.0</td>\n    </tr>\n    <tr>\n      <th>x0_plus_x1_distrib_non_uniform_stat_indep__importance_symmetric</th>\n      <td>1.0</td>\n      <td>1.0</td>\n    </tr>\n    <tr>\n      <th>cough_and_fever__importance_symmetric</th>\n      <td>0.0</td>\n      <td>1.0</td>\n    </tr>\n    <tr>\n      <th>cough_and_fever_10_90__is_cough_more_important_than_fever</th>\n      <td>1.0</td>\n      <td>1.0</td>\n    </tr>\n    <tr>\n      <th>x0_plus_x1_distrib_non_uniform_stat_dep__importance_symmetric</th>\n      <td>1.0</td>\n      <td>1.0</td>\n    </tr>\n  </tbody>\n</table>\n</div>"
     },
     "execution_count": 10,
     "metadata": {},
     "output_type": "execute_result"
    }
   ],
   "source": [
    "df_common.loc[common_tests]"
   ],
   "metadata": {
    "collapsed": false,
    "pycharm": {
     "name": "#%%\n"
    }
   }
  },
  {
   "cell_type": "code",
   "execution_count": 11,
   "outputs": [],
   "source": [
    "# todo https://www.quora.com/How-do-I-highlight-a-row-in-Pandas-DataFrame\n",
    "# todo score sur les tests en commun"
   ],
   "metadata": {
    "collapsed": false,
    "pycharm": {
     "name": "#%%\n"
    }
   }
  }
 ],
 "metadata": {
  "kernelspec": {
   "display_name": "Python 3",
   "language": "python",
   "name": "python3"
  },
  "language_info": {
   "codemirror_mode": {
    "name": "ipython",
    "version": 2
   },
   "file_extension": ".py",
   "mimetype": "text/x-python",
   "name": "python",
   "nbconvert_exporter": "python",
   "pygments_lexer": "ipython2",
   "version": "2.7.6"
  }
 },
 "nbformat": 4,
 "nbformat_minor": 0
}